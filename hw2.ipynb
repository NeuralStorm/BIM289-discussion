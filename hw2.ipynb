{
 "cells": [
  {
   "cell_type": "markdown",
   "metadata": {},
   "source": [
    "# Entropy\n",
    "\n",
    "$$H = -\\Sigma{p(x_i)log_2(p(x_i))}$$\n",
    "\n",
    "# Joint\n",
    "$$\\Sigma{p(s_i)\\Sigma{p(r_j|s_i)log_2[ \\frac {p(r_j|s_i)} {p(r_j)} ]}}$$\n",
    "r = response\n",
    "s = stimulus"
   ]
  },
  {
   "cell_type": "markdown",
   "metadata": {},
   "source": [
    "# Psuedocode\n",
    "```\n",
    "for event in events\n",
    "    curr_p = tot_event_trials / tot_trials\n",
    "    for neuron in neurons\n",
    "        event_relative_response = make_relative_response(event_trials, neuron_ts)\n",
    "        bin_counts = sum(relative_response, dim = 'col')\n",
    "        unique_bin_counts = unique(bin_counts)\n",
    "```"
   ]
  },
  {
   "cell_type": "code",
   "execution_count": null,
   "metadata": {},
   "outputs": [],
   "source": []
  }
 ],
 "metadata": {
  "kernelspec": {
   "display_name": "Python 3",
   "language": "python",
   "name": "python3"
  },
  "language_info": {
   "codemirror_mode": {
    "name": "ipython",
    "version": 3
   },
   "file_extension": ".py",
   "mimetype": "text/x-python",
   "name": "python",
   "nbconvert_exporter": "python",
   "pygments_lexer": "ipython3",
   "version": "3.8.0"
  }
 },
 "nbformat": 4,
 "nbformat_minor": 2
}
