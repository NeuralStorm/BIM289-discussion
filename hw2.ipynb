{
 "cells": [
  {
   "cell_type": "markdown",
   "metadata": {
    "slideshow": {
     "slide_type": "slide"
    }
   },
   "source": [
    "# Roadmap\n",
    "\n",
    "$$ \\text{timing info}\\xleftarrow{\\text{any bin}} \\text{RR: } T \\times (N * B)\\xrightarrow{\\text{tot bin = window}}\\text{count info}$$\n",
    "<br>\n",
    "$$\\;\\;\\;\\;\\;\\;\\;\\;\\;\\;\\;\\;\\;\\;\\downarrow{\\frac{\\Sigma{\\text{ (columns: T)}}} {\\text{T in E}}} $$\n",
    "<br>\n",
    "$$ PSTH $$\n",
    "<br>\n",
    "$$\\text{RR = relative response | T = trials | N = neurons | B = bins | E = events}$$"
   ]
  },
  {
   "cell_type": "markdown",
   "metadata": {
    "slideshow": {
     "slide_type": "slide"
    }
   },
   "source": [
    "# Goal\n",
    "* Find probabilities of response given events\n",
    "  * Use probabilities to find entropy\n",
    "    * Use entropy to find information\n",
    "  * Understand similiarties and differences between timing and count\n",
    "* Extra credit: Learn how bin sizes influence information"
   ]
  },
  {
   "cell_type": "markdown",
   "metadata": {
    "slideshow": {
     "slide_type": "slide"
    }
   },
   "source": [
    "# Timing Probability\n",
    "\n",
    "* Unique neural patterns in relative response matrix\n",
    "<br>\n",
    "$$\\begin{bmatrix}0&0&1&0&1\\\\1&0&0&1&1\\\\0&0&1&0&1\\end{bmatrix}$$"
   ]
  },
  {
   "cell_type": "markdown",
   "metadata": {
    "slideshow": {
     "slide_type": "subslide"
    }
   },
   "source": [
    "# Timing Probability\n",
    "\n",
    "* Unique neural patterns in relative response matrix\n",
    "<br>\n",
    "$$\\begin{bmatrix}0&0&1&0&1\\\\1&0&0&1&1\\\\0&0&1&0&1\\end{bmatrix}\\xrightarrow{\\text{unique}}\\begin{bmatrix}0&0&1&0&1\\\\1&0&0&1&1\\end{bmatrix}$$"
   ]
  },
  {
   "cell_type": "markdown",
   "metadata": {
    "slideshow": {
     "slide_type": "subslide"
    }
   },
   "source": [
    "# Timing Probability\n",
    "\n",
    "* Unique neural patterns in relative response matrix\n",
    "<br>\n",
    "$$\\begin{bmatrix}0&0&1&0&1\\\\1&0&0&1&1\\\\0&0&1&0&1\\end{bmatrix}\\xrightarrow{\\text{unique}}\\begin{bmatrix}0&0&1&0&1\\\\1&0&0&1&1\\end{bmatrix}\\xrightarrow{\\text{prob}}\\begin{bmatrix}0.666666667\\\\0.333333333\\end{bmatrix}$$"
   ]
  },
  {
   "cell_type": "markdown",
   "metadata": {
    "slideshow": {
     "slide_type": "slide"
    }
   },
   "source": [
    "# Count Probability\n",
    "* Unique total counts\n",
    "<br>\n",
    "$$\\begin{bmatrix}0&0&1&0&1\\\\1&0&0&1&1\\\\0&0&1&0&1\\end{bmatrix}$$"
   ]
  },
  {
   "cell_type": "markdown",
   "metadata": {
    "slideshow": {
     "slide_type": "subslide"
    }
   },
   "source": [
    "# Count Probability\n",
    "* Unique total counts\n",
    "<br>\n",
    "$$\\begin{bmatrix}0&0&1&0&1\\\\1&0&0&1&1\\\\0&0&1&0&1\\end{bmatrix}\\xrightarrow{\\text{sum}}\\begin{bmatrix}2\\\\3\\\\2\\end{bmatrix}$$"
   ]
  },
  {
   "cell_type": "markdown",
   "metadata": {
    "slideshow": {
     "slide_type": "subslide"
    }
   },
   "source": [
    "# Count Probability\n",
    "* Unique total counts\n",
    "<br>\n",
    "$$\\begin{bmatrix}0&0&1&0&1\\\\1&0&0&1&1\\\\0&0&1&0&1\\end{bmatrix}\\xrightarrow{\\text{sum}}\\begin{bmatrix}2\\\\3\\\\2\\end{bmatrix}\\xrightarrow{\\text{unique}}\\begin{bmatrix}2\\\\3\\end{bmatrix}$$"
   ]
  },
  {
   "cell_type": "markdown",
   "metadata": {
    "slideshow": {
     "slide_type": "subslide"
    }
   },
   "source": [
    "# Count Probability\n",
    "* Unique total counts\n",
    "<br>\n",
    "$$\\begin{bmatrix}0&0&1&0&1\\\\1&0&0&1&1\\\\0&0&1&0&1\\end{bmatrix}\\xrightarrow{\\text{sum}}\\begin{bmatrix}2\\\\3\\\\2\\end{bmatrix}\\xrightarrow{\\text{unique}}\\begin{bmatrix}2\\\\3\\end{bmatrix}\\xrightarrow{\\text{prob}}\\begin{bmatrix}0.666666667\\\\0.333333333\\end{bmatrix}$$"
   ]
  },
  {
   "cell_type": "markdown",
   "metadata": {
    "slideshow": {
     "slide_type": "slide"
    }
   },
   "source": [
    "# Entropy\n",
    "\n",
    "$$H = -\\Sigma{p(r_i)log_2(p(r_i))}$$\n",
    "$$\\text{H = entropy | r = response}$$"
   ]
  },
  {
   "cell_type": "markdown",
   "metadata": {
    "slideshow": {
     "slide_type": "slide"
    }
   },
   "source": [
    "# Psuedocode\n",
    "```py\n",
    "# Go through events\n",
    "for curr_event in events:\n",
    "    # Find event probability\n",
    "    event_prob = tot_event_trials / tot_trials\n",
    "```"
   ]
  },
  {
   "cell_type": "markdown",
   "metadata": {
    "slideshow": {
     "slide_type": "fragment"
    }
   },
   "source": [
    "```py\n",
    "# Go through neurons\n",
    "    for curr_neuron in neurons:\n",
    "        # Make relative response\n",
    "        event_relative_response = make_relative_response()\n",
    "```"
   ]
  },
  {
   "cell_type": "markdown",
   "metadata": {
    "slideshow": {
     "slide_type": "fragment"
    }
   },
   "source": [
    "```py\n",
    "# Find unique bin counts\n",
    "        bin_counts = sum(relative_response)\n",
    "        unique_bin_counts = unique(bin_counts)\n",
    "        # Calc prob for each bin count\n",
    "        # Calc entropy for current event for current neuron\n",
    "```"
   ]
  },
  {
   "cell_type": "markdown",
   "metadata": {
    "slideshow": {
     "slide_type": "fragment"
    }
   },
   "source": [
    "```py\n",
    "# Find overlap between events\n",
    "    event_prob_count = p(bin_count) for all neurons\n",
    "    joint_unique_bin_counts = unique(bin_counts for all neurons)\n",
    "```"
   ]
  },
  {
   "cell_type": "markdown",
   "metadata": {
    "slideshow": {
     "slide_type": "slide"
    }
   },
   "source": [
    "# Psuedocode\n",
    "```py\n",
    "# After finding probabilities and entropies, find joint probability\n",
    "for curr_neuron in neurons:\n",
    "    for curr_event in events:\n",
    "        # finding overlap response between neurons for stimulus\n",
    "        shared_counts = intersection(counts between neurons for given event)\n",
    "        # With shared counts, you can now find p(response|stimulus)\n",
    "        joint_prob = p(response|stimulus)\n",
    "```"
   ]
  },
  {
   "cell_type": "markdown",
   "metadata": {
    "slideshow": {
     "slide_type": "slide"
    }
   },
   "source": [
    "# Joint Mutual Info\n",
    "* After solving for joint probabilities, solve for mutual info\n",
    "$$\\Sigma_{i = 1..S}\\;{p(s_i)\\;\\Sigma_{j = 1..R}\\;{p(r_j|s_i)\\;log_2[ \\frac {p(r_j|s_i)} {p(r_j)} ]}}$$\n",
    "r = response (ie: bin count)\n",
    "s = stimulus (ie: event)"
   ]
  },
  {
   "cell_type": "markdown",
   "metadata": {
    "slideshow": {
     "slide_type": "slide"
    }
   },
   "source": [
    "# What to turn in\n",
    "## Conceptual Questions (10pts)\n",
    "* pdf with answers to conceptual questions\n",
    "  * Extra credit: Include summary and graphs in this pdf as well\n",
    "* Code files you wrote to create JSON output file\n",
    "* Code files should be plain text with proper file extension\n",
    "  * ex: last_first_hw1.m, last_first_hw1.py, etc."
   ]
  },
  {
   "cell_type": "markdown",
   "metadata": {
    "slideshow": {
     "slide_type": "slide"
    }
   },
   "source": [
    "# Json Output File (10pts)\n",
    "* This file will be input into automatic grader\n",
    "* This was taken from the example solution json and is a small snippet\n",
    "* You are not required to turn in a pretty formatted json file\n",
    "```json\n",
    "{\n",
    "    \"joint_mutual_info\": 0.33344173107597835,\n",
    "    \"sig001a\": {\n",
    "        \"count_mutual_info\": 0.05641115694179237,\n",
    "        \"event_1\": {\n",
    "            \"count_entropy\": 2.256315725743558\n",
    "        }\n",
    "    }\n",
    "}\n",
    "```"
   ]
  }
 ],
 "metadata": {
  "celltoolbar": "Slideshow",
  "kernelspec": {
   "display_name": "Python 3",
   "language": "python",
   "name": "python3"
  },
  "language_info": {
   "codemirror_mode": {
    "name": "ipython",
    "version": 3
   },
   "file_extension": ".py",
   "mimetype": "text/x-python",
   "name": "python",
   "nbconvert_exporter": "python",
   "pygments_lexer": "ipython3",
   "version": "3.8.1"
  }
 },
 "nbformat": 4,
 "nbformat_minor": 2
}
