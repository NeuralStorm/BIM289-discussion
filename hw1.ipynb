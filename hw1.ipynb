{
 "cells": [
  {
   "cell_type": "markdown",
   "metadata": {
    "slideshow": {
     "slide_type": "slide"
    }
   },
   "source": [
    "# Roadmap\n",
    "\n",
    "$$ \\text{Raster}\\xleftarrow{\\text{1ms bin}} \\text{Relative Response: } T \\times (N * B)$$\n",
    "<br>\n",
    "$$\\;\\;\\;\\;\\;\\;\\;\\;\\;\\;\\;\\;\\;\\;\\;\\;\\;\\;\\;\\;\\;\\;\\;\\;\\;\\;\\;\\;\\;\\downarrow{\\frac{\\Sigma{\\text{ (columns: T)}}} {\\text{T in E}}} $$\n",
    "<br>\n",
    "$$ PSTH $$\n",
    "T = trials&emsp;&emsp;N = neurons&emsp;&emsp;B = bins&emsp;&emsp;E = events"
   ]
  },
  {
   "cell_type": "markdown",
   "metadata": {
    "slideshow": {
     "slide_type": "slide"
    }
   },
   "source": [
    "# JSON Files\n",
    "## Matlab\n",
    "```\n",
    "% get file name and path\n",
    "% open file with fopen and load in data\n",
    "% close file and use jsondecode on the data read in from file\n",
    "example_data = jsondecode(str_data);\n",
    "```\n",
    "\n",
    "## Python\n",
    "\n",
    "```\n",
    "import json\n",
    "# open file\n",
    "# Use load or other json functions to read in data\n",
    "example_data = json.load(file)\n",
    "```"
   ]
  },
  {
   "cell_type": "markdown",
   "metadata": {
    "slideshow": {
     "slide_type": "slide"
    }
   },
   "source": [
    "# JSON Example\n",
    "```json\n",
    "{\n",
    "    \"events\": {\n",
    "        \"event_3\": [\n",
    "            138.33675\n",
    "        ],\n",
    "         \"event_6\": [\n",
    "            42.74935\n",
    "        ]\n",
    "    }\n",
    "}\n",
    "```\n",
    "<br>\n",
    "```py\n",
    "dict['events'] = ['event_1', 'event_4']\n",
    "```"
   ]
  },
  {
   "cell_type": "code",
   "execution_count": 2,
   "metadata": {
    "slideshow": {
     "slide_type": "slide"
    }
   },
   "outputs": [],
   "source": [
    "import json\n",
    "\n",
    "with open('hw1_example.json') as input:\n",
    "    example_data = json.load(input)"
   ]
  },
  {
   "cell_type": "code",
   "execution_count": 3,
   "metadata": {
    "slideshow": {
     "slide_type": "fragment"
    }
   },
   "outputs": [
    {
     "name": "stdout",
     "output_type": "stream",
     "text": [
      "dict_keys(['events', 'neurons'])\n",
      "dict_keys(['event_1', 'event_4'])\n",
      "dict_keys(['sig001a', 'sig007c'])\n"
     ]
    }
   ],
   "source": [
    "    print(example_data.keys())\n",
    "    print(example_data['events'].keys())\n",
    "    print(example_data['neurons'].keys())"
   ]
  },
  {
   "cell_type": "markdown",
   "metadata": {
    "slideshow": {
     "slide_type": "slide"
    }
   },
   "source": [
    "# Psuedocode\n",
    "```py\n",
    "# Go through collection of bin sizes to create PSTH\n",
    "for bin_size in bin_collection\n",
    "    window_range = pre_time:bin_size:post_time\n",
    "```"
   ]
  },
  {
   "cell_type": "markdown",
   "metadata": {
    "slideshow": {
     "slide_type": "fragment"
    }
   },
   "source": [
    "```py\n",
    "# Go through event keys and grab event timestamps\n",
    "    for curr_event in events:\n",
    "        event_ts = example_data['events'][curr_event]\n",
    "```"
   ]
  },
  {
   "cell_type": "markdown",
   "metadata": {
    "slideshow": {
     "slide_type": "fragment"
    }
   },
   "source": [
    "```py\n",
    "# Go through neurons and grab neuron spike times\n",
    "        for curr_neuron in neurons:\n",
    "            neuron_ts = example_data['neurons'][curr_neuron]\n",
    "```"
   ]
  },
  {
   "cell_type": "markdown",
   "metadata": {
    "slideshow": {
     "slide_type": "fragment"
    }
   },
   "source": [
    "```py\n",
    "# Go through trials and grab trial timestamp to create histogram\n",
    "            for curr_trial in curr_event\n",
    "                offset_ts = neuron_ts - curr_trial\n",
    "                binned_response = histohtam(offset_ts, window_range)\n",
    "                response[trial_i, unit_start:unit_end] = binned_response\n",
    "```"
   ]
  },
  {
   "cell_type": "markdown",
   "metadata": {
    "slideshow": {
     "slide_type": "slide"
    }
   },
   "source": [
    "# Python Raster Sidenote\n",
    "In order to plot the raster graphs in matplotlib, map 1s to the relative spike time and 0s to NaN.  \n",
    "## ex  \n",
    "Parameters: 1ms bin size from 0ms to 5ms\n",
    "$$\\text{0 0 1 0 1} \\rightarrow \\text{NaN NaN .003 NaN .005}$$\n",
    "\n",
    "![Sig 007c Event 4 Raster](images/sig007c_event_4_0.001ms_raster.png)"
   ]
  },
  {
   "cell_type": "code",
   "execution_count": null,
   "metadata": {},
   "outputs": [],
   "source": []
  }
 ],
 "metadata": {
  "celltoolbar": "Slideshow",
  "kernelspec": {
   "display_name": "Python 3",
   "language": "python",
   "name": "python3"
  },
  "language_info": {
   "codemirror_mode": {
    "name": "ipython",
    "version": 3
   },
   "file_extension": ".py",
   "mimetype": "text/x-python",
   "name": "python",
   "nbconvert_exporter": "python",
   "pygments_lexer": "ipython3",
   "version": "3.8.0"
  }
 },
 "nbformat": 4,
 "nbformat_minor": 2
}
