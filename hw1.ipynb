{
 "cells": [
  {
   "cell_type": "markdown",
   "metadata": {
    "slideshow": {
     "slide_type": "slide"
    }
   },
   "source": [
    "# Roadmap\n",
    "\n",
    "$$ \\text{Raster}\\xleftarrow{\\text{1ms bin}} \\text{Relative Response: } T \\times (N * B)$$\n",
    "<br>\n",
    "$$\\;\\;\\;\\;\\;\\;\\;\\;\\;\\;\\;\\;\\;\\;\\;\\;\\;\\;\\;\\;\\;\\;\\;\\;\\;\\;\\;\\;\\;\\downarrow{\\frac{\\Sigma{\\text{ (columns: T)}}} {\\text{T in E}}} $$\n",
    "<br>\n",
    "$$ PSTH $$\n",
    "<br>\n",
    "$$\\text{T = trials | N = neurons | B = bins | E = events}$$"
   ]
  },
  {
   "cell_type": "markdown",
   "metadata": {
    "slideshow": {
     "slide_type": "slide"
    }
   },
   "source": [
    "# Goal\n",
    "* Find neurons' relative response to each trial\n",
    "* Create the relative response matrix: Trials×(Neurons*Total Bins)\n",
    "  * Create raster plot if bin size = 1ms\n",
    "  * Sum columns and create PSTH\n",
    "    * Plot PSTHS\n",
    "    * Receptive field analysis if bin size = 5ms"
   ]
  },
  {
   "cell_type": "markdown",
   "metadata": {
    "slideshow": {
     "slide_type": "slide"
    }
   },
   "source": [
    "# JSON Example\n",
    "```json\n",
    "{\n",
    "    \"events\": {\n",
    "        \"event_1\": [\n",
    "            104.6154\n",
    "        ],\n",
    "         \"event_4\": [\n",
    "            42.74935\n",
    "        ]\n",
    "    }\n",
    "}\n",
    "```"
   ]
  },
  {
   "cell_type": "markdown",
   "metadata": {
    "slideshow": {
     "slide_type": "slide"
    }
   },
   "source": [
    "# Window of Interest\n",
    "* pre_time: Amount of time taken before event onset\n",
    "  * ex: -0.2s (200ms before event onset)\n",
    "* post_time: Amount of time taken after event onset\n",
    "  * ex: 0.2s (200ms after event onset)\n",
    "* bin_size: size of step to group spikes for a given neuron\n",
    "  * ex: 0.1s (100ms bin to group spikes into)\n",
    "\n",
    "# Finding Spikes Relative to Trial\n",
    "$$\\text{Neuron Spike Timestamps} - \\text{Trial Timestamp} = \\text{Relative Spike Timestamps}$$\n",
    "<br>\n",
    "$$\\begin{bmatrix}103.3154\\\\104.4796\\\\104.6479\\\\104.6178\\\\104.7277\\\\104.7632\\\\104.7796\\\\104.8918\\end{bmatrix}-104.6154=\\begin{bmatrix}-1.3\\\\-0.1358\\\\0.0024\\\\0.0325\\\\0.1123\\\\0.1478\\\\0.1642\\\\0.2764\\end{bmatrix}$$\n"
   ]
  },
  {
   "cell_type": "markdown",
   "metadata": {},
   "source": [
    "# Binning Spikes\n",
    "$$\\text{pre_time} = -0.2, \\text{post_time} = 0.2, \\text{bin_size} = 0.1$$\n",
    "<br>\n",
    "$$\\text{Bin edges} = [-0.2, -0.1), [-0.1, 0), [0, 0.1), [0.1, 0.2]$$\n",
    "$$\\text{Note that both edges are not inclusive so that if a spike does fall on an edge it is not counted twice}$$\n",
    "<br>\n",
    "$$\\begin{bmatrix}-1.3\\\\-0.1358\\\\0.0024\\\\0.0325\\\\0.1123\\\\0.1478\\\\0.1642\\\\0.2764\\end{bmatrix}\\xrightarrow{\\text{histogram function call}}\\begin{bmatrix}1\\\\0\\\\2\\\\3\\end{bmatrix}$$"
   ]
  },
  {
   "cell_type": "markdown",
   "metadata": {},
   "source": [
    "\n",
    "# Relative Response Matrix\n",
    "The relative response matrix has dimensions trials (rows) by bins (columns) for a given neuron as seen below\n",
    "$$\\text{Event 1, Neuron 1}$$\n",
    "$$\\begin{bmatrix}trial 1\\\\trial 2\\\\trial 3\\end{bmatrix}\\begin{bmatrix}0,0,3,4\\\\1,0,2,3\\\\0,1,5,2\\end{bmatrix}$$\n",
    "## Calculating PSTH\n",
    "$$\\begin{bmatrix}0,0,3,4\\\\1,0,2,3\\\\0,1,5,2\\end{bmatrix}\\xrightarrow{\\text{sum spikes across trials}}\\begin{bmatrix}1,1,10,9\\end{bmatrix}\\xrightarrow{\\text{divide by total trials (3)}}\\begin{bmatrix}1/3,1/3,3 1/3,3\\end{bmatrix}$$"
   ]
  },
  {
   "cell_type": "markdown",
   "metadata": {},
   "source": [
    "# Matlab Histogram Function Call\n",
    "```py\n",
    "pre_time = -0.2; post_time = 0.2; bin_size = 0.1;\n",
    "event_window = pre_time:bin_size:post_time;\n",
    "# relative_spikes is the offset spike times for a given trial\n",
    "[binned_spikes, ~] = histcounts(relative_spikes, event_window);\n",
    "```\n",
    "# Numpy Histogram Function Call\n",
    "```py\n",
    "import numpy as np\n",
    "\n",
    "pre_time = -0.2; post_time = 0.2; bin_size = 0.1;\n",
    "event_window = list(np.arange(pre_time, post_time, bin))\n",
    "total_bins = len(event_window)\n",
    "# relative_spikes is the offset spike times for a given trial\n",
    "# np.histogram returns an array [histogram, bin_edges] so the call below only grabs the histogram\n",
    "binned_spikes = np.histogram(relative_spikes, total_bins, range = (pre_time, post_time))[0]\n",
    "```"
   ]
  },
  {
   "cell_type": "markdown",
   "metadata": {
    "slideshow": {
     "slide_type": "slide"
    }
   },
   "source": [
    "# JSON Files\n",
    "## Matlab\n",
    "Note: comments use # for syntax highlighting instead of Matlab's  %\n",
    "```py\n",
    "# get file name and path\n",
    "# open file with fopen and load in data\n",
    "# close file and use jsondecode on the data read in from file\n",
    "```"
   ]
  },
  {
   "cell_type": "markdown",
   "metadata": {
    "slideshow": {
     "slide_type": "fragment"
    }
   },
   "source": [
    "```py\n",
    "# jsondecode reads str_data into a struct\n",
    "example_data = jsondecode(str_data);\n",
    "neuron_names = fieldnames(example_data.neurons)\n",
    "for neuron_i = 1:length(neuron_names)\n",
    "    # Get current neuron fieldname\n",
    "    curr_neuron = neuron_names{neuron_i};\n",
    "    # Get timestamps stored in struct\n",
    "    neuron_ts = example_data.neurons.(curr_neuron);\n",
    "end\n",
    "```"
   ]
  },
  {
   "cell_type": "markdown",
   "metadata": {
    "slideshow": {
     "slide_type": "slide"
    }
   },
   "source": [
    "# JSON Files\n",
    "## Python\n",
    "\n",
    "```py\n",
    "import json\n",
    "# open file\n",
    "# Use load or other json functions to read in data\n",
    "example_data = json.load(file)\n",
    "```"
   ]
  },
  {
   "cell_type": "code",
   "execution_count": 2,
   "metadata": {
    "slideshow": {
     "slide_type": "fragment"
    }
   },
   "outputs": [],
   "source": [
    "import json\n",
    "\n",
    "with open('hw1_example.json') as input:\n",
    "    example_data = json.load(input)"
   ]
  },
  {
   "cell_type": "code",
   "execution_count": 3,
   "metadata": {
    "slideshow": {
     "slide_type": "fragment"
    }
   },
   "outputs": [
    {
     "name": "stdout",
     "output_type": "stream",
     "text": [
      "dict_keys(['events', 'neurons'])\n",
      "dict_keys(['event_1', 'event_4'])\n",
      "dict_keys(['sig001a', 'sig007c'])\n"
     ]
    }
   ],
   "source": [
    "    print(example_data.keys())\n",
    "    print(example_data['events'].keys())\n",
    "    print(example_data['neurons'].keys())"
   ]
  },
  {
   "cell_type": "markdown",
   "metadata": {
    "slideshow": {
     "slide_type": "slide"
    }
   },
   "source": [
    "# Psuedocode: Creating Relative Response\n",
    "```py\n",
    "# Go through collection of bin sizes to create PSTH\n",
    "bin_sizes = [0.001, 0.005, 0.01, 0.02]\n",
    "pre_time = -0.2\n",
    "post_time = 0.2\n",
    "for bin_size in bin_sizes:\n",
    "    window_range = pre_time:bin_size:post_time\n",
    "```"
   ]
  },
  {
   "cell_type": "markdown",
   "metadata": {
    "slideshow": {
     "slide_type": "fragment"
    }
   },
   "source": [
    "```py\n",
    "# Go through event keys and grab event timestamps\n",
    "    for curr_event in events:\n",
    "        event_ts = example_data['events'][curr_event]\n",
    "```"
   ]
  },
  {
   "cell_type": "markdown",
   "metadata": {
    "slideshow": {
     "slide_type": "fragment"
    }
   },
   "source": [
    "```py\n",
    "        # Go through neurons and grab neuron spike times\n",
    "        for curr_neuron in neurons:\n",
    "            neuron_ts = example_data['neurons'][curr_neuron]\n",
    "```"
   ]
  },
  {
   "cell_type": "markdown",
   "metadata": {
    "slideshow": {
     "slide_type": "fragment"
    }
   },
   "source": [
    "```py\n",
    "            # Go through trials and grab trial timestamp to create histogram\n",
    "            for trial_ts in event_ts:\n",
    "                # Create offset time window so that event onset is at t = 0\n",
    "                offset_ts = neuron_ts - trial_ts\n",
    "                # bin spikes within analysis window\n",
    "                binned_response = histogram(offset_ts, window_range)\n",
    "                # Populate relative response matrix with neuron response\n",
    "                response[trial_i, unit_start:unit_end] = binned_response\n",
    "```"
   ]
  },
  {
   "cell_type": "markdown",
   "metadata": {
    "slideshow": {
     "slide_type": "fragment"
    }
   },
   "source": [
    "```py\n",
    "            # Create PSTH for each neuron for each event\n",
    "            psth = sum(response) / tot_event_trials\n",
    "```"
   ]
  },
  {
   "cell_type": "markdown",
   "metadata": {
    "slideshow": {
     "slide_type": "slide"
    }
   },
   "source": [
    "# Example PSTH\n",
    "![Sig 007c Event 4 PSTH](images/sig007c_event_4_0.01ms_psth.png)"
   ]
  },
  {
   "cell_type": "markdown",
   "metadata": {
    "slideshow": {
     "slide_type": "slide"
    }
   },
   "source": [
    "# Psuedocode: Receptive Field Analysis\n",
    "```py\n",
    "for curr_event in events:\n",
    "    for curr_neuron in neurons:\n",
    "        if bin_size == 0.005:\n",
    "            % Split psth into pre and post windows\n",
    "            pre_time_psth, post_time_psth = split_psth(neuron_psth)\n",
    "```"
   ]
  },
  {
   "cell_type": "markdown",
   "metadata": {
    "slideshow": {
     "slide_type": "fragment"
    }
   },
   "source": [
    "```py\n",
    "            # Pre time Receptive field\n",
    "            # If using numpy.std, set ddof = 1\n",
    "            threshold = mean(pre_time_psth) + 3*std(pre_time_psth)\n",
    "            # Threshold is arbitrary\n",
    "```"
   ]
  },
  {
   "cell_type": "markdown",
   "metadata": {
    "slideshow": {
     "slide_type": "fragment"
    }
   },
   "source": [
    "```py\n",
    "            # Post time receptive field\n",
    "            above_threshold_bins = post_time > threshold\n",
    "            # Note: Dont forget to scale bin indices into time\n",
    "            first_bin = above_threshold[0]\n",
    "            last_bin = above_threshold[-1]\n",
    "            peak = max(above_threshold)\n",
    "            magnitude = sum(above_threshold) # grab bin magnitudes\n",
    "```"
   ]
  },
  {
   "cell_type": "markdown",
   "metadata": {
    "slideshow": {
     "slide_type": "slide"
    }
   },
   "source": [
    "# Example PSTH with Receptive Field\n",
    "![Sig 007c Event 4 PSTH](images/sig007c_event_4_0.005ms_psth.png)"
   ]
  },
  {
   "cell_type": "markdown",
   "metadata": {
    "slideshow": {
     "slide_type": "slide"
    }
   },
   "source": [
    "# What to turn in\n",
    "## Conceptual Questions and graphs (10pts)\n",
    "* pdf with answers to conceptual questions and requested psths and raster graphs\n",
    "* Code files you wrote to create JSON output file\n",
    "* Code files should be plain text with proper file extension\n",
    "  * ex: last_first_hw1.m, last_first_hw1.py, etc."
   ]
  },
  {
   "cell_type": "markdown",
   "metadata": {
    "slideshow": {
     "slide_type": "slide"
    }
   },
   "source": [
    "# Json Output File (10pts)\n",
    "* This file will be input into automatic grader\n",
    "* This was taken from the example solution json and is a small snippet\n",
    "* You are not required to turn in a pretty formatted json file\n",
    "```json\n",
    "{\n",
    "    \"event_1\": {\n",
    "        \"sig001a\": {\n",
    "            \"background_rate\": 0.013732394366197184,\n",
    "            \"first_bin_latency\": 0.0925,\n",
    "            \"last_bin_latency\": 0.1325\n",
    "        }\n",
    "    }\n",
    "}\n",
    "```"
   ]
  },
  {
   "cell_type": "markdown",
   "metadata": {
    "slideshow": {
     "slide_type": "slide"
    }
   },
   "source": [
    "# Python Raster Sidenote\n",
    "## Example\n",
    "Parameters: 1ms bin size from 0ms to 5ms\n",
    "$$\\text{0 0 1 0 1} \\xrightarrow{\\text{transformation}} \\text{NaN NaN .003 NaN .005}$$\n",
    "### Mapping\n",
    "$$0 \\rightarrow NaN$$\n",
    "$$1 \\rightarrow \\text{scaled time point}$$"
   ]
  },
  {
   "cell_type": "markdown",
   "metadata": {
    "slideshow": {
     "slide_type": "slide"
    }
   },
   "source": [
    "# Sig007c Event 4 Raster\n",
    "Y-axis: trials X-axis: Time (s)\n",
    "![Sig 007c Event 4 Raster](images/sig007c_event_4_0.001ms_raster.png)"
   ]
  }
 ],
 "metadata": {
  "celltoolbar": "Slideshow",
  "kernelspec": {
   "display_name": "Python 3",
   "language": "python",
   "name": "python3"
  },
  "language_info": {
   "codemirror_mode": {
    "name": "ipython",
    "version": 3
   },
   "file_extension": ".py",
   "mimetype": "text/x-python",
   "name": "python",
   "nbconvert_exporter": "python",
   "pygments_lexer": "ipython3",
   "version": "3.9.1"
  }
 },
 "nbformat": 4,
 "nbformat_minor": 2
}
