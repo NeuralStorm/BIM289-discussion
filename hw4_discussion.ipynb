{
 "cells": [
  {
   "cell_type": "markdown",
   "metadata": {
    "slideshow": {
     "slide_type": "slide"
    }
   },
   "source": [
    "# Roadmap\n",
    "$$\\text{Multineuron Timeseries: } (T * B) \\times N$$\n",
    "$$\\downarrow \\text{Z-Score (Neurons)}$$\n",
    "$$\\downarrow PCA$$ \n",
    "$$\\text{PCA Scores: } (T * B) \\times N \\xrightarrow{\\text{reshape}} \\text{Relative Response: } T \\times (N * B)$$\n",
    "$$\\downarrow{\\frac{\\Sigma{\\text{ (columns: T)}}} {\\text{T in E}}} $$\n",
    "$$PSTH$$\n",
    "<br>\n",
    "$\\text{T = trials | N = neurons | B = bins | E = events}$"
   ]
  },
  {
   "cell_type": "markdown",
   "metadata": {
    "slideshow": {
     "slide_type": "slide"
    }
   },
   "source": [
    "# Goal\n",
    "* Format the data into the multineuron timeseries format\n",
    "* Perform PCA on the neural data and extract out the scores\n",
    "  * Reshape scores back into PCA\n",
    "  * Run classification on first 4 principal components"
   ]
  },
  {
   "cell_type": "markdown",
   "metadata": {},
   "source": [
    "$$\\pagebreak$$"
   ]
  },
  {
   "cell_type": "markdown",
   "metadata": {},
   "source": [
    "# What is Principal Component Analysis (PCA)?\n",
    "* PCA = dimension reduction technique\n",
    "* Works by finding componenets that maximally explain variance within data\n",
    "  * Number of input features = max of possible components that can come out"
   ]
  },
  {
   "cell_type": "markdown",
   "metadata": {
    "slideshow": {
     "slide_type": "slide"
    }
   },
   "source": [
    "# PCA Visual Depiction\n",
    "![PCA Example Plot](images/pca_example_cropped.png)"
   ]
  },
  {
   "cell_type": "markdown",
   "metadata": {
    "slideshow": {
     "slide_type": "slide"
    }
   },
   "source": [
    "# PCA Behind the Scenes\n",
    "1. Calculate covariance matrix  \n",
    "    * diagonal = variance\n",
    "    * off-diagonal = covariance\n",
    "2. Use Singular Value Decomposition (SVD) on covariance matrix  \n",
    "    * SVD is an eigendecomposition algorithm and gives the eigenvalues and eigenvectors of the matrix\n",
    "    * Nature of algorithm organizes components in decreasing order of variance explained\n",
    "3. Use eigenvalues and eigenvectors to transform data into PC space\n",
    "    * Weighted sum of your features (neurons) on each data point in your pca input\n",
    "4. Done!"
   ]
  },
  {
   "cell_type": "markdown",
   "metadata": {},
   "source": [
    "$$\\pagebreak$$"
   ]
  },
  {
   "cell_type": "markdown",
   "metadata": {},
   "source": [
    "# Relative Response Matrix\n",
    "* Rows = trials\n",
    "* Columns = Time grouped by Neuron\n",
    "$$\\text{event 1 relative response for 2 Neurons}$$\n",
    "$$\n",
    "\\begin{bmatrix}\\text{trial 1}\\\\\\text{trial 2}\\end{bmatrix}\n",
    "\\begin{bmatrix}0&2&4&3\\\\0&1&0&1\\end{bmatrix}\n",
    "\\begin{bmatrix}0&2&1&3\\\\0&0&2&1\\end{bmatrix}\n",
    "$$\n",
    "<br>\n",
    "$$\\text{event 2 relative response for 2 Neurons}$$\n",
    "$$\n",
    "\\begin{bmatrix}\\text{trial 1}\\end{bmatrix}\n",
    "\\begin{bmatrix}0&0&2&3\\end{bmatrix}\n",
    "\\begin{bmatrix}1&0&2&3\\end{bmatrix}\n",
    "$$"
   ]
  },
  {
   "cell_type": "markdown",
   "metadata": {},
   "source": [
    "# PCA Input (multineural timeseries, MNTS)\n",
    "* Rows = Time grouped by trial (observations)\n",
    "* Columns = Neurons (features)\n",
    "$$\n",
    "\\begin{bmatrix}\n",
    "event 1\\\\event 1\\\\event 1\\\\event 1\\\\event 1\\\\event 1\\\\event 1\\\\event 1\\\\\n",
    "event 2\\\\event 2\\\\event 2\\\\event 2\n",
    "\\end{bmatrix}\n",
    "\\begin{bmatrix}\n",
    "T1B1\\\\T1B2\\\\T1B3\\\\T1B4\\\\T2B1\\\\T2B2\\\\T2B3\\\\T2B4\\\\\n",
    "T1B1\\\\T1B2\\\\T1B3\\\\T1B4\n",
    "\\end{bmatrix}\n",
    "\\begin{bmatrix}\n",
    "0&0\\\\2&2\\\\4&1\\\\3&3\\\\0&0\\\\1&0\\\\0&2\\\\1&1\\\\\n",
    "0&1\\\\0&0\\\\2&2\\\\3&3\n",
    "\\end{bmatrix}\n",
    "$$"
   ]
  },
  {
   "cell_type": "markdown",
   "metadata": {},
   "source": [
    "# MNTS Side Notes\n",
    "* Make sure your PCA input contains all neurons and events in one matrix\n",
    "  * The hope is that the events can be separated by the different componenets since they will have non overlapping variance in observations\n",
    "  * Neurons are your feature inputs for PCA\n",
    "* Keep track of event and trial order\n",
    "  * After PCA you will get out a score matrix with data mapped to PC space\n",
    "  * This transformed matrix will need to be reshaped into the relative response matrix\n",
    "  * After reshaping you will then proceed with PSTH classification\n",
    "* There are a few ways of creating the PCA input\n",
    "  1. Directly creating the matrix while binning the data\n",
    "      * New function like relative response function but stores data differently\n",
    "  2. Reshaping the relative response matrix into the multineuron timeseries\n",
    "      * The only difference between the two formats are how the bins are grouped"
   ]
  },
  {
   "cell_type": "markdown",
   "metadata": {},
   "source": [
    "# Running PCA  \n",
    "## Matlab\n",
    "```m\n",
    "% pca_input = input matrix\n",
    "% rows = trials * bins\n",
    "% columns = neurons\n",
    "norm_pca_input = zscore(pca_input);\n",
    "[loadings, pca_score, eigenvalues, ~, pc_variance, ~] = pca(norm_pca_input);\n",
    "```  \n",
    "## Python\n",
    "```py\n",
    "from scipy import stats\n",
    "from sklearn.decomposition import PCA\n",
    "\n",
    "# pca_input = input matrix\n",
    "# rows = trials * bins\n",
    "# columns = neurons\n",
    "# Make sure that you remove any columns with all 0s before z-scoring\n",
    "norm_pca_input = stats.zscore(pca_input, axis = 1, ddof = 1)\n",
    "pca = PCA()\n",
    "pca.fit(norm_pca_input)\n",
    "pca_score = pca.transform(norm_pca_input)\n",
    "\n",
    "eigenvalues = pca.explained_variance_.tolist()\n",
    "pc_variance = (pca.explained_variance_ratio_ * 100).tolist()\n",
    "```"
   ]
  },
  {
   "cell_type": "markdown",
   "metadata": {
    "slideshow": {
     "slide_type": "slide"
    }
   },
   "source": [
    "# What to turn in\n",
    "## Conceptual Questions (10pts)\n",
    "* pdf with answers to conceptual questions\n",
    "* Code files you wrote to create JSON output file\n",
    "* Code files should be plain text with proper file extension\n",
    "  * ex: last_first_hw4.m, last_first_hw4.py, etc."
   ]
  },
  {
   "cell_type": "markdown",
   "metadata": {
    "slideshow": {
     "slide_type": "slide"
    }
   },
   "source": [
    "# Json Output File (10pts)\n",
    "* This file will be input into automatic grader\n",
    "* This was taken from the example solution json and is a small snippet\n",
    "* You are not required to turn in a pretty formatted json file\n",
    "```json\n",
    "{\n",
    "    \"psth_classifier\": {\n",
    "        \"mutual_info\": 0.32068603931534856,\n",
    "        \"performance\": 0.46\n",
    "    }\n",
    "}\n",
    "```"
   ]
  }
 ],
 "metadata": {
  "celltoolbar": "Slideshow",
  "kernelspec": {
   "display_name": "Python 3",
   "language": "python",
   "name": "python3"
  },
  "language_info": {
   "codemirror_mode": {
    "name": "ipython",
    "version": 3
   },
   "file_extension": ".py",
   "mimetype": "text/x-python",
   "name": "python",
   "nbconvert_exporter": "python",
   "pygments_lexer": "ipython3",
   "version": "3.8.2"
  }
 },
 "nbformat": 4,
 "nbformat_minor": 4
}
