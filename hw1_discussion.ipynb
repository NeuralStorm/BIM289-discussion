{
 "cells": [
  {
   "cell_type": "markdown",
   "metadata": {
    "slideshow": {
     "slide_type": "slide"
    }
   },
   "source": [
    "# Roadmap\n",
    "\n",
    "$$ \\text{Raster}\\xleftarrow{\\text{1ms bin}} \\text{Relative Response: } T \\times (N * B)$$\n",
    "<br>\n",
    "$$\\;\\;\\;\\;\\;\\;\\;\\;\\;\\;\\;\\;\\;\\;\\;\\;\\;\\;\\;\\;\\;\\;\\;\\;\\;\\;\\;\\;\\;\\downarrow{\\frac{\\Sigma{\\text{ (columns: T)}}} {\\text{T in E}}} $$\n",
    "<br>\n",
    "$$ PSTH $$\n",
    "<br>\n",
    "$$\\text{T = trials | N = neurons | B = bins | E = events}$$"
   ]
  },
  {
   "cell_type": "markdown",
   "metadata": {
    "slideshow": {
     "slide_type": "slide"
    }
   },
   "source": [
    "# Goal\n",
    "* Find neurons' relative response to each trial\n",
    "* Create the relative response matrix: Trials×(Neurons*Total Bins)\n",
    "  * Create raster plot if bin size = 1ms\n",
    "  * Sum columns and create PSTH\n",
    "    * Plot PSTHS\n",
    "    * Receptive field analysis if bin size = 5ms"
   ]
  },
  {
   "cell_type": "markdown",
   "metadata": {},
   "source": [
    "$$\\pagebreak$$"
   ]
  },
  {
   "cell_type": "markdown",
   "metadata": {
    "slideshow": {
     "slide_type": "slide"
    }
   },
   "source": [
    "# JSON Example\n",
    "```json\n",
    "{\n",
    "    \"events\": {\n",
    "        \"event_1\": [104.615425, 111.9553, 183.5854, 214.3664, 228.426425],\n",
    "        \"event_4\": [73.058, 81.14745, 91.436575, 97.80635, 101.70715]\n",
    "    },\n",
    "    \"neurons\": {\n",
    "        \"sig001a\": [36.036825, 36.077825, 36.11535, 36.1392, 36.14845],\n",
    "        \"sig007c\": [0.08645, 0.11895, 0.15845, 0.166475, 0.2861]\n",
    "    }\n",
    "}\n",
    "```"
   ]
  },
  {
   "cell_type": "markdown",
   "metadata": {},
   "source": [
    "# Matlab: Reading JSON\n",
    "```m\n",
    "% Read in JSON file via file path and filename\n",
    "file = fullfile(file_path, filename);\n",
    "fid = fopen(file);\n",
    "raw_data = fread(fid,inf);\n",
    "str_data = char(raw_data');\n",
    "fclose(fid);\n",
    "example_data = jsondecode(str_data);\n",
    "example_data = jsondecode(str_data);\n",
    "% Gives you the keys within the neurons key\n",
    "neuron_names = fieldnames(example_data.neurons)\n",
    "for neuron_i = 1:length(neuron_names)\n",
    "    % Get current neuron fieldname\n",
    "    neuron = neuron_names{neuron_i};\n",
    "    % Get timestamps stored in struct\n",
    "    neuron_ts = example_data.neurons.(neuron);\n",
    "end\n",
    "```"
   ]
  },
  {
   "cell_type": "code",
   "execution_count": 19,
   "metadata": {},
   "outputs": [
    {
     "name": "stdout",
     "output_type": "stream",
     "text": [
      "Neuron name: sig001a\n",
      "First 5 spikes: [36.036825, 36.077825, 36.11535, 36.1392, 36.14845]\n",
      "Neuron name: sig007c\n",
      "First 5 spikes: [0.08645, 0.11895, 0.15845, 0.166475, 0.2861]\n"
     ]
    }
   ],
   "source": [
    "# Python: Reading JSON\n",
    "import json\n",
    "\n",
    "# Example assumes python code is in same directory as example json\n",
    "with open('hw1_example.json') as f:\n",
    "    example_data = json.load(f)\n",
    "\n",
    "for k, v in example_data['neurons'].items():\n",
    "    print(f'Neuron name: {k}\\nFirst 5 spikes: {v[0:5]}')"
   ]
  },
  {
   "cell_type": "markdown",
   "metadata": {
    "slideshow": {
     "slide_type": "slide"
    }
   },
   "source": [
    "# Window of Interest\n",
    "* pre_time: Amount of time taken before event onset\n",
    "  * ex: -0.2s (200ms before event onset)\n",
    "* post_time: Amount of time taken after event onset\n",
    "  * ex: 0.2s (200ms after event onset)\n",
    "* bin_size: size of step to group spikes for a given neuron\n",
    "  * ex: 0.1s (100ms bin to group spikes into)\n",
    "\n",
    "# Finding Spikes Relative to Trial\n",
    "$$\\text{Neuron Spike Timestamps} - \\text{Trial Timestamp} = \\text{Relative Spike Timestamps}$$\n",
    "<br>\n",
    "$$\\begin{bmatrix}103.3154\\\\104.4796\\\\104.6479\\\\104.6178\\\\104.7277\\\\104.7632\\\\104.7796\\\\104.8918\\end{bmatrix}-104.6154=\\begin{bmatrix}-1.3\\\\-0.1358\\\\0.0024\\\\0.0325\\\\0.1123\\\\0.1478\\\\0.1642\\\\0.2764\\end{bmatrix}$$\n"
   ]
  },
  {
   "cell_type": "markdown",
   "metadata": {
    "slideshow": {
     "slide_type": "slide"
    }
   },
   "source": [
    "# Binning Spikes\n",
    "$$\\mathrm{pre\\_time} = -0.2, \\mathrm{post\\_time} = 0.2, \\mathrm{bin\\_size} = 0.1$$\n",
    "<br>\n",
    "$$\\text{Bin edges} = [-0.2, -0.1), [-0.1, 0), [0, 0.1), [0.1, 0.2]$$\n",
    "$$\\text{Note that both edges are not inclusive so that if a spike does fall on an edge it is not counted twice}$$\n",
    "<br>\n",
    "$$\\begin{bmatrix}-1.3\\\\-0.1358\\\\0.0024\\\\0.0325\\\\0.1123\\\\0.1478\\\\0.1642\\\\0.2764\\end{bmatrix}\\xrightarrow{\\text{histogram function call}}\\begin{bmatrix}1\\\\0\\\\2\\\\3\\end{bmatrix}$$"
   ]
  },
  {
   "cell_type": "markdown",
   "metadata": {
    "slideshow": {
     "slide_type": "slide"
    }
   },
   "source": [
    "# Matlab Histogram Function Call\n",
    "```py\n",
    "pre_time = -0.2; post_time = 0.2; bin_size = 0.1;\n",
    "event_window = pre_time:bin_size:post_time;\n",
    "# relative_spikes is the offset spike times for a given trial\n",
    "[binned_spikes, ~] = histcounts(relative_spikes, event_window);\n",
    "```\n",
    "# Numpy Histogram Function Call\n",
    "```py\n",
    "import numpy as np\n",
    "\n",
    "pre_time = -0.2; post_time = 0.2; bin_size = 0.1;\n",
    "event_window = list(np.arange(pre_time, post_time, bin_size))\n",
    "total_bins = len(event_window)\n",
    "# relative_spikes is the offset spike times for a given trial\n",
    "# np.histogram returns an array [histogram, bin_edges] so the call below only grabs the histogram\n",
    "binned_spikes = np.histogram(relative_spikes, total_bins, range = (pre_time, post_time))[0]\n",
    "```"
   ]
  },
  {
   "cell_type": "markdown",
   "metadata": {
    "slideshow": {
     "slide_type": "slide"
    }
   },
   "source": [
    "\n",
    "# Relative Response Matrix\n",
    "The relative response matrix has dimensions trials (rows) by bins (columns) for a given neuron as seen below\n",
    "$$\\text{Event 1, Neuron 1}$$\n",
    "$$\\begin{bmatrix}trial 1\\\\trial 2\\\\trial 3\\end{bmatrix}\\begin{bmatrix}0,0,3,4\\\\1,0,2,3\\\\0,1,5,2\\end{bmatrix}$$\n",
    "## Calculating PSTH\n",
    "$$\\begin{bmatrix}0,0,3,4\\\\1,0,2,3\\\\0,1,5,2\\end{bmatrix}\\xrightarrow{\\text{sum spikes across trials}}\\begin{bmatrix}1,1,10,9\\end{bmatrix}\\xrightarrow{\\text{divide by total trials (3)}}\\begin{bmatrix}0.33,0.33,3.33,3\\end{bmatrix}$$"
   ]
  },
  {
   "cell_type": "markdown",
   "metadata": {
    "slideshow": {
     "slide_type": "slide"
    }
   },
   "source": [
    "# Example PSTH\n",
    "![Sig 007c Event 4 PSTH](images/sig007c_event_4_0.01ms_psth.png)"
   ]
  },
  {
   "cell_type": "markdown",
   "metadata": {},
   "source": [
    "$$\\pagebreak$$"
   ]
  },
  {
   "cell_type": "markdown",
   "metadata": {
    "slideshow": {
     "slide_type": "slide"
    }
   },
   "source": [
    "# Receptive Field Calculations\n",
    "$$psth = \\begin{bmatrix}0.33,0.33,3.33,3\\end{bmatrix}$$\n",
    "1. split psth on event onset to get the pre and post event activity separated\n",
    "$$\\mathrm{pre\\_psth} = [0.33, 0.33]$$\n",
    "$$\\mathrm{post\\_psth} = [3.33, 3]$$\n",
    "2. calculate background firing rate and threshold\n",
    "  * note std = standard deviation\n",
    "```py\n",
    "std_scalar = 3 # scales the number of standard deviations\n",
    "background_firing_rate = mean(pre_psth)\n",
    "threshold = background_firing_rate + std_scalar * std(pre_psth)\n",
    "```\n",
    "3. Apply threshold to post psth to get latencies\n",
    "```py\n",
    "above_threshold = post_psth > threshold # returns boolean array where values > threshold\n",
    "first_bin = above_threshold[0] # grab the first bin above the threshold\n",
    "last_bin = above_threshold[-1] # grab the last bin above threshold\n",
    "first_bin_latency = first_bin * bin_size # have to scale bin index to time\n",
    "last_bin_latency = last_bin * bin_size\n",
    "[peak, peak_index] = max(post_psth)\n",
    "peak_latency = peak_index * bin_size\n",
    "```\n",
    "4. Calculate Response Magnitude\n",
    "```py\n",
    "response_magnitude = sum(post_psth[first_bin:last_bin + 1]) #+1 since python indexing is non inclusive\n",
    "```"
   ]
  },
  {
   "cell_type": "markdown",
   "metadata": {
    "slideshow": {
     "slide_type": "slide"
    }
   },
   "source": [
    "# Example PSTH with Receptive Field\n",
    "![Sig 007c Event 4 PSTH](images/sig007c_event_4_0.005ms_psth.png)"
   ]
  },
  {
   "cell_type": "markdown",
   "metadata": {},
   "source": [
    "$$\\pagebreak$$"
   ]
  },
  {
   "cell_type": "markdown",
   "metadata": {
    "slideshow": {
     "slide_type": "slide"
    }
   },
   "source": [
    "\n",
    "# Json Output File (10pts)\n",
    "* This file will be input into automatic grader\n",
    "* This was taken from the example solution json and is a small snippet\n",
    "* You are not required to turn in a pretty formatted json file\n",
    "```json\n",
    "{\n",
    "    \"event_1\": {\n",
    "        \"sig001a\": {\n",
    "            \"background_rate\": 0.013732394366197184,\n",
    "            \"first_bin_latency\": 0.0925,\n",
    "            \"last_bin_latency\": 0.1325\n",
    "        }\n",
    "    }\n",
    "}\n",
    "```"
   ]
  },
  {
   "cell_type": "markdown",
   "metadata": {},
   "source": [
    "# Matlab: Write JSON\n",
    "```m\n",
    "%% write results struct to json file\n",
    "% results is struct with the layout of the keys as fields\n",
    "% ex: results.sig001a.first_bin_latency = 0.0925\n",
    "json_data = jsonencode(results);\n",
    "json_file = fullfile(file_path, 'Matlabby_Mclabpants_hw1.json');\n",
    "fid = fopen(json_file, 'w');\n",
    "fwrite(fid, json_data, 'char');\n",
    "fclose(fid);\n",
    "```"
   ]
  },
  {
   "cell_type": "markdown",
   "metadata": {},
   "source": [
    "# Python: Write JSON\n",
    "```py\n",
    "with open('Pythony_McPythonPants_hw1.json', 'w') as f_out:\n",
    "    # results is a dict\n",
    "    # ex: results['sig001a']['first_bin_latency'] = 0.0925\n",
    "    json.dump(results, f_out)\n",
    "```"
   ]
  },
  {
   "cell_type": "markdown",
   "metadata": {},
   "source": [
    "$$\\pagebreak$$"
   ]
  },
  {
   "cell_type": "markdown",
   "metadata": {
    "slideshow": {
     "slide_type": "slide"
    }
   },
   "source": [
    "# Python Raster Sidenote\n",
    "## Example\n",
    "Parameters: 1ms bin size from 0ms to 5ms\n",
    "$$\\text{0 0 1 0 1} \\xrightarrow{\\text{transformation}} \\text{NaN NaN 0.003 NaN 0.005}$$\n",
    "### Mapping\n",
    "$$0 \\rightarrow NaN$$\n",
    "$$1 \\rightarrow \\text{scaled time point}$$"
   ]
  },
  {
   "cell_type": "markdown",
   "metadata": {
    "slideshow": {
     "slide_type": "slide"
    }
   },
   "source": [
    "# Sig007c Event 4 Raster (y = trial #, x time (s))\n",
    "![Sig 007c Event 4 Raster](images/sig007c_event_4_0.001ms_raster.png)"
   ]
  },
  {
   "cell_type": "markdown",
   "metadata": {},
   "source": [
    "$$\\pagebreak$$"
   ]
  },
  {
   "cell_type": "markdown",
   "metadata": {
    "slideshow": {
     "slide_type": "slide"
    }
   },
   "source": [
    "# What to turn in\n",
    "## Conceptual Questions and graphs (10pts)\n",
    "* pdf with answers to conceptual questions and requested psths and raster graphs\n",
    "* Code files you wrote to create JSON output file\n",
    "* Code files should be plain text with proper file extension\n",
    "  * ex: last_first_hw1.m, last_first_hw1.py, etc."
   ]
  }
 ],
 "metadata": {
  "celltoolbar": "Slideshow",
  "kernelspec": {
   "display_name": "Python 3",
   "language": "python",
   "name": "python3"
  },
  "language_info": {
   "codemirror_mode": {
    "name": "ipython",
    "version": 3
   },
   "file_extension": ".py",
   "mimetype": "text/x-python",
   "name": "python",
   "nbconvert_exporter": "python",
   "pygments_lexer": "ipython3",
   "version": "3.9.1"
  }
 },
 "nbformat": 4,
 "nbformat_minor": 2
}
