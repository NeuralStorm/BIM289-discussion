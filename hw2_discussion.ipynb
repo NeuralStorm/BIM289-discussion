{
 "cells": [
  {
   "cell_type": "markdown",
   "metadata": {
    "slideshow": {
     "slide_type": "slide"
    }
   },
   "source": [
    "# Roadmap\n",
    "\n",
    "$$ \\text{timing info}\\xleftarrow{\\text{any bin}} \\text{RR: } T \\times (N * B)\\xrightarrow{\\text{tot bin = window}}\\text{count info}$$\n",
    "<br>\n",
    "$$\\;\\;\\;\\;\\;\\;\\;\\;\\;\\;\\;\\;\\;\\;\\downarrow{\\frac{\\Sigma{\\text{ (columns: T)}}} {\\text{T in E}}} $$\n",
    "<br>\n",
    "$$ PSTH $$\n",
    "<br>\n",
    "$$\\text{RR = relative response | T = trials | N = neurons | B = bins | E = events}$$"
   ]
  },
  {
   "cell_type": "markdown",
   "metadata": {
    "slideshow": {
     "slide_type": "slide"
    }
   },
   "source": [
    "# Goal\n",
    "* Find probabilities of response given events\n",
    "  * Use probabilities to find entropy\n",
    "    * Use entropy to find information\n",
    "  * Understand similiarties and differences between timing and count\n",
    "* Extra credit: Learn how bin sizes influence information"
   ]
  },
  {
   "cell_type": "markdown",
   "metadata": {
    "slideshow": {
     "slide_type": "slide"
    }
   },
   "source": [
    "# Spike Count for Neuron 1\n",
    "1. Make your relative response matrix for given event\n",
    "$$\n",
    "\\begin{bmatrix}\\text{trial 1}\\\\\\text{trial 2}\\\\\\text{trial 3}\\end{bmatrix}\n",
    "\\begin{bmatrix}0&0&1&0&1\\\\1&0&0&1&1\\\\0&0&1&0&1\\end{bmatrix}\n",
    "$$"
   ]
  },
  {
   "cell_type": "markdown",
   "metadata": {
    "slideshow": {
     "slide_type": "subslide"
    }
   },
   "source": [
    "2. Sum all of the spikes in your window  \n",
    "* Note that spike count is the special case when bin size = window length\n",
    "$$\n",
    "\\begin{bmatrix}\\text{trial 1}\\\\\\text{trial 2}\\\\\\text{trial 3}\\end{bmatrix}\n",
    "\\begin{bmatrix}0&0&1&0&1\\\\1&0&0&1&1\\\\0&0&1&0&1\\end{bmatrix}\n",
    "\\xrightarrow{\\text{sum}}\n",
    "\\begin{bmatrix}\\text{trial 1}\\\\\\text{trial 2}\\\\\\text{trial 3}\\end{bmatrix}\n",
    "\\begin{bmatrix}2\\\\3\\\\2\\end{bmatrix}$$"
   ]
  },
  {
   "cell_type": "markdown",
   "metadata": {},
   "source": [
    "# Calculating Spike Count Probability\n",
    "More on this later\n",
    "$$\\begin{bmatrix}\\text{trial 1}\\\\\\text{trial 2}\\\\\\text{trial 3}\\end{bmatrix}\\begin{bmatrix}2\\\\3\\\\2\\end{bmatrix}$$"
   ]
  },
  {
   "cell_type": "markdown",
   "metadata": {
    "slideshow": {
     "slide_type": "subslide"
    }
   },
   "source": [
    "3. Find the unique spike counts across trials\n",
    "<br>\n",
    "$$\\begin{bmatrix}0&0&1&0&1\\\\1&0&0&1&1\\\\0&0&1&0&1\\end{bmatrix}\\xrightarrow{\\text{sum}}\\begin{bmatrix}2\\\\3\\\\2\\end{bmatrix}\\xrightarrow{\\text{unique}}\\begin{bmatrix}2\\\\3\\end{bmatrix}$$"
   ]
  },
  {
   "cell_type": "markdown",
   "metadata": {
    "slideshow": {
     "slide_type": "subslide"
    }
   },
   "source": [
    "4. Calculate propability of a given spike count occuring across trials\n",
    "<br>\n",
    "$$\\begin{bmatrix}0&0&1&0&1\\\\1&0&0&1&1\\\\0&0&1&0&1\\end{bmatrix}\\xrightarrow{\\text{sum}}\\begin{bmatrix}2\\\\3\\\\2\\end{bmatrix}\\xrightarrow{\\text{unique}}\\begin{bmatrix}2\\\\3\\end{bmatrix}\\xrightarrow{\\text{prob}}\\begin{bmatrix}0.666666667\\\\0.333333333\\end{bmatrix}$$"
   ]
  },
  {
   "attachments": {
    "457f3d0b-0f3a-4d9a-8c71-c5fb533eab94.png": {
     "image/png": "[encoded data removed]"
    }
   },
   "cell_type": "markdown",
   "metadata": {
    "slideshow": {
     "slide_type": "slide"
    }
   },
   "source": [
    "![image.png](attachment:457f3d0b-0f3a-4d9a-8c71-c5fb533eab94.png)# Entropy\n",
    "5. Calculate entropy of bin count for event\n",
    "$$H = -\\Sigma{p(r_i)log_2(p(r_i))}$$\n",
    "* r = response (spike count, spike timing, etc.)\n",
    "* $p(r_i)$ = probability of response occuring for given event\n",
    "$$H = -[(0.66667 * log_2(0.66667)) + (0.33333 * log_2(0.33333))] = 0.9183$$"
   ]
  },
  {
   "cell_type": "markdown",
   "metadata": {
    "slideshow": {
     "slide_type": "slide"
    }
   },
   "source": [
    "# Spike Timing Probability\n",
    "1. Calculate relative response matrix for given event\n",
    "$$\n",
    "\\begin{bmatrix}\\text{trial 1}\\\\\\text{trial 2}\\\\\\text{trial 3}\\end{bmatrix}\n",
    "\\begin{bmatrix}0&0&1&0&1\\\\1&0&0&1&1\\\\0&0&1&0&1\\end{bmatrix}\n",
    "$$"
   ]
  },
  {
   "cell_type": "markdown",
   "metadata": {
    "slideshow": {
     "slide_type": "subslide"
    }
   },
   "source": [
    "2. Find unique spike timing patterns\n",
    "<br>\n",
    "$$\n",
    "\\begin{bmatrix}\\text{trial 1}\\\\\\text{trial 2}\\\\\\text{trial 3}\\end{bmatrix}\n",
    "\\begin{bmatrix}0&0&1&0&1\\\\1&0&0&1&1\\\\0&0&1&0&1\\end{bmatrix}\n",
    "\\xrightarrow{\\text{unique}}\n",
    "\\begin{bmatrix}0&0&1&0&1\\\\1&0&0&1&1\\end{bmatrix}$$"
   ]
  },
  {
   "cell_type": "markdown",
   "metadata": {
    "slideshow": {
     "slide_type": "subslide"
    }
   },
   "source": [
    "3. Calculate propability of a given spike pattern occuring\n",
    "<br>\n",
    "$$\\begin{bmatrix}0&0&1&0&1\\\\1&0&0&1&1\\\\0&0&1&0&1\\end{bmatrix}\\xrightarrow{\\text{unique}}\\begin{bmatrix}0&0&1&0&1\\\\1&0&0&1&1\\end{bmatrix}\\xrightarrow{\\text{probability}}\\begin{bmatrix}0.666666667\\\\0.333333333\\end{bmatrix}$$"
   ]
  },
  {
   "cell_type": "markdown",
   "metadata": {
    "slideshow": {
     "slide_type": "slide"
    }
   },
   "source": [
    "5. Calculate entropy for timing for event\n",
    "$$H = -\\Sigma{p(r_i)log_2(p(r_i))}$$\n",
    "$$\\text{H = entropy | r = response}$$\n",
    "$$H = -[(0.66667 * log_2(0.66667)) + (0.33333 * log_2(0.33333))] = 0.9183$$"
   ]
  },
  {
   "cell_type": "markdown",
   "metadata": {
    "slideshow": {
     "slide_type": "slide"
    }
   },
   "source": [
    "# Mutual Info for Spike Count\n",
    "* Finds the information for a neuron spike counts across stimulus\n",
    "  * Note that the process is exactly the same for spike timing\n",
    "$$I_\\text{neuron} = \\Sigma_{i = 1..S}\\;{p(s_i)\\;\\Sigma_{j = 1..R}\\;{p(r_j|s_i)\\;log_2[ \\frac {p(r_j|s_i)} {p(r_j)} ]}}$$\n",
    "* r = response \n",
    "  * ex: spike count\n",
    "  * ex: spike timing\n",
    "* s = stimulus (ie: event)\n",
    "* $p(s_i)$ = probability of event\n",
    "* $p(r_j|s_i)$ = probality of response given an event\n",
    "  * $p(r_\\mathrm{spike counts:neuron\\_1= 0} | s_\\mathrm{event\\_1})$\n",
    "* $p(r_j)$ = probability of response across all events\n",
    "  * $p(r_\\mathrm{spike counts:neuron\\_1= 0})$"
   ]
  },
  {
   "cell_type": "markdown",
   "metadata": {},
   "source": [
    "# Calculating p(rj|si) for Spike Counts\n",
    "$p(r_j|s_i)$ = probability of response across neurons given specific stimulus  \n",
    "$$\\text{event 1 spike counts per trial}$$\n",
    "$$\n",
    "\\begin{bmatrix}\\text{neuron}\\\\\\text{trial 1}\\\\\\text{trial 2}\\\\\\text{trial 3}\\\\\\text{trial 4}\\end{bmatrix}\n",
    "\\begin{bmatrix}\\text{sig001a}\\\\0\\\\1\\\\1\\\\0\\end{bmatrix}\n",
    "$$\n",
    "\n",
    "$$p(r_\\text{spike count = 0} | s_\\mathrm{event\\_1}) = 0.5$$\n",
    "$$p(r_\\text{spike count = 1} | s_\\mathrm{event\\_1}) = 0.5$$"
   ]
  },
  {
   "cell_type": "markdown",
   "metadata": {},
   "source": [
    "$$\\text{event 2 spike counts per trial}$$\n",
    "$$\n",
    "\\begin{bmatrix}\\text{neuron}\\\\\\text{trial 1}\\\\\\text{trial 2}\\\\\\text{trial 3}\\end{bmatrix}\n",
    "\\begin{bmatrix}\\text{sig001a}\\\\0\\\\1\\\\1\\end{bmatrix}\n",
    "$$\n",
    "\n",
    "$$p(r_\\text{spike count = 0} | s_\\mathrm{event\\_2}) = 0.33$$\n",
    "$$p(r_\\text{spike count = 1} | s_\\mathrm{event\\_2}) = 0.67$$"
   ]
  },
  {
   "cell_type": "markdown",
   "metadata": {},
   "source": [
    "# Calculating p(rj)\n",
    "$$p(r_j) = \\Sigma_{i = 1..S}\\;p(s_i) * p(r_j|s_i)$$"
   ]
  },
  {
   "cell_type": "markdown",
   "metadata": {},
   "source": [
    "1. define rj\n",
    "$$r_j = 0$$\n",
    "2. Calculate probability of events occuring\n",
    "$$ p(s_\\mathrm{event\\_1}) = \\frac{\\text{event 1 trials}} {\\text{total trials}} = \\frac{4} {7}$$\n",
    "<br>\n",
    "$$ p(s_\\mathrm{event\\_2}) = \\frac{\\text{event 2 trials}} {\\text{total trials}} = \\frac{3} {7}$$\n",
    "3. Compute sum\n",
    "$$p(r_\\text{0}) = (\\frac{4} {7} * 0.5) + (\\frac{3} {7} * \\frac{1} {3}) = \\frac{3} {7}$$\n",
    "$$p(r_\\text{1}) = (\\frac{4} {7} * 0.5) + (\\frac{3} {7} * \\frac{2} {3}) = \\frac{4} {7}$$"
   ]
  },
  {
   "cell_type": "markdown",
   "metadata": {},
   "source": [
    "# Calculating Mutual Info\n",
    "For the first event:\n",
    "$$p(s_i) * \\Sigma_{j = 1..R}\\;{p(r_j|s_i)\\;log_2[\\frac {p(r_j|s_i)} {p(r_j)}]}$$\n",
    "<br>\n",
    "$$\n",
    "p(r_{0}|s_\\mathrm{event\\_1}) * log_2[\\frac {p(r_{0}|s_\\mathrm{event\\_1})} {p(r_{0})}]\n",
    "= 0.5 * log_2[\\frac{0.5} {\\frac{3} {7}}]\n",
    "= 0.11120\n",
    "$$\n",
    "<br>\n",
    "$$\n",
    "p(r_{1}|s_\\mathrm{event\\_1}) * log_2[\\frac {p(r_{1}|s_\\mathrm{event\\_1})} {p(r_{1})}]\n",
    "= 0.5 * log_2[\\frac {0.5} {\\frac {4} {7}}]\n",
    "= -0.09632\n",
    "$$\n",
    "<br>\n",
    "$$p(s_\\mathrm{event\\_1}) * \\Sigma_{j = 1..R}\\; = \\frac {4} {7} * (0.11120 + -0.09632) = 0.00850$$"
   ]
  },
  {
   "cell_type": "markdown",
   "metadata": {},
   "source": [
    "For the second event:\n",
    "$$p(s_i) * \\Sigma_{j = 1..R}\\;{p(r_j|s_i)\\;log_2[\\frac {p(r_j|s_i)} {p(r_j)}]}$$\n",
    "<br>\n",
    "$$\n",
    "p(r_{0}|s_\\mathrm{event\\_2}) * log_2[\\frac {p(r_{0}|s_\\mathrm{event\\_2})} {p(r_{0})}]\n",
    "= \\frac {1} {3} * log_2[\\frac{\\frac {1} {3}} {\\frac{3} {7}}]\n",
    "= -0.12086\n",
    "$$\n",
    "<br>\n",
    "$$\n",
    "p(r_{1}|s_\\mathrm{event\\_2}) * log_2[\\frac {p(r_{1}|s_\\mathrm{event\\_2})} {p(r_{1})}]\n",
    "= \\frac {2} {3} * log_2[\\frac {\\frac {2} {3}} {\\frac {4} {7}}]\n",
    "= 0.14826\n",
    "$$\n",
    "<br>\n",
    "$$\n",
    "p(s_\\mathrm{event\\_2}) * \\Sigma_{j = 1..R}\\; = \\frac {3} {7} * (-0.12086 + 0.14826) = 0.01174\n",
    "$$"
   ]
  },
  {
   "cell_type": "markdown",
   "metadata": {},
   "source": [
    "Sum the events:\n",
    "$$I_\\text{sig001a} = \\Sigma_{i = 1..S}\\; = 0.00850 + 0.01174 = 0.0202$$"
   ]
  },
  {
   "cell_type": "markdown",
   "metadata": {
    "slideshow": {
     "slide_type": "slide"
    }
   },
   "source": [
    "# Joint Mutual Info\n",
    "* Finds the information between neurons across stimulus\n",
    "  * Note that the process is exactly the same for spike timing\n",
    "$$I_\\text{joint} = \\Sigma_{i = 1..S}\\;{p(s_i)\\;\\Sigma_{j = 1..R}\\;{p(r_j|s_i)\\;log_2[ \\frac {p(r_j|s_i)} {p(r_j)} ]}}$$\n",
    "* r = response \n",
    "  * ex: spike count: total number of spikes for each trial across neuron population\n",
    "  * ex: timing count: spike pattern for each trial across neuron population\n",
    "* s = stimulus (ie: event)\n",
    "* $p(s_i)$ = probability of event\n",
    "* $p(r_j|s_i)$ = probality of response across neurons given an event\n",
    "  * $p(r_\\mathrm{spike counts:neuron\\_1= 0,neuron\\_2=2} | s_\\mathrm{event\\_1})$\n",
    "* $p(r_j)$ = probability of response across all events\n",
    "  * $p(r_\\mathrm{spike counts:neuron\\_1= 0,neuron\\_2=2})$"
   ]
  },
  {
   "cell_type": "markdown",
   "metadata": {},
   "source": [
    "# Calculating p(rj|si) for Spike Counts\n",
    "$p(r_j|s_i)$ = probability of response across neurons given specific stimulus  \n",
    "$$\\text{event 1 spike counts per trial}$$\n",
    "$$\n",
    "\\begin{bmatrix}\\text{neuron}\\\\\\text{trial 1}\\\\\\text{trial 2}\\\\\\text{trial 3}\\\\\\text{trial 4}\\end{bmatrix}\n",
    "\\begin{bmatrix}\\text{sig001a}\\\\0\\\\1\\\\1\\\\0\\end{bmatrix}\n",
    "\\begin{bmatrix}\\text{sig007a}\\\\2\\\\0\\\\0\\\\1\\end{bmatrix}\n",
    "$$\n",
    "\n",
    "$$p(r_\\text{spike count = 0,2} | s_\\mathrm{event\\_1}) = 0.25$$\n",
    "$$p(r_\\text{spike count = 1,0} | s_\\mathrm{event\\_1}) = 0.5$$\n",
    "$$p(r_\\text{spike count = 0,1} | s_\\mathrm{event\\_1}) = 0.25$$"
   ]
  },
  {
   "cell_type": "markdown",
   "metadata": {},
   "source": [
    "$$\\text{event 2 spike counts per trial}$$\n",
    "$$\n",
    "\\begin{bmatrix}\\text{neuron}\\\\\\text{trial 1}\\\\\\text{trial 2}\\\\\\text{trial 3}\\end{bmatrix}\n",
    "\\begin{bmatrix}\\text{sig001a}\\\\0\\\\1\\\\1\\end{bmatrix}\n",
    "\\begin{bmatrix}\\text{sig007a}\\\\2\\\\0\\\\0\\end{bmatrix}\n",
    "$$\n",
    "\n",
    "$$p(r_\\text{spike count = 0,2} | s_\\mathrm{event\\_2}) = 0.33$$\n",
    "$$p(r_\\text{spike count = 1,0} | s_\\mathrm{event\\_2}) = 0.67$$"
   ]
  },
  {
   "cell_type": "markdown",
   "metadata": {},
   "source": [
    "# Calculating p(rj)\n",
    "$$p(r_j) = \\Sigma_{i = 1..S}\\;p(s_i) * p(r_j|s_i)$$"
   ]
  },
  {
   "cell_type": "markdown",
   "metadata": {},
   "source": [
    "1. define rj\n",
    "$$r_j = 0,2$$\n",
    "2. Calculate probability of events occuring\n",
    "$$ p(s_\\mathrm{event\\_1}) = \\frac{\\text{event 1 trials}} {\\text{total trials}} = \\frac{4} {7}$$\n",
    "<br>\n",
    "$$ p(s_\\mathrm{event\\_2}) = \\frac{\\text{event 2 trials}} {\\text{total trials}} = \\frac{3} {7}$$\n",
    "3. Compute sum\n",
    "$$p(r_\\text{0,2}) = (\\frac{4} {7} * 0.25) + (\\frac{3} {7} * \\frac{1} {3}) = \\frac{2} {7}$$\n",
    "$$p(r_\\text{1,0}) = (\\frac{4} {7} * 0.5) + (\\frac{3} {7} * \\frac{2} {3}) = \\frac{4} {7}$$\n",
    "$$p(r_\\text{0,1}) = (\\frac{4} {7} * 0.25) = \\frac{1} {7}$$"
   ]
  },
  {
   "cell_type": "markdown",
   "metadata": {
    "slideshow": {
     "slide_type": "slide"
    }
   },
   "source": [
    "# Joint Mutual Info\n",
    "* Finds the information between neurons across stimulus\n",
    "$$\\Sigma_{i = 1..S}\\;{p(s_i)\\;\\Sigma_{j = 1..R}\\;{p(r_j|s_i)\\;log_2[ \\frac {p(r_j|s_i)} {p(r_j)} ]}}$$\n",
    "* r = response (ie: bin count)  \n",
    "* s = stimulus (ie: event)\n",
    "* $p(s_i)$ = probability of event\n",
    "* $p(r_j|s_i)$ = probality of response across neurons given an event\n",
    "  * $p(r_\\text{spike count = 0,2} | s_\\mathrm{event\\_1})$\n",
    "* $p(r_j)$ = probability of response across all events\n",
    "  * $p(r_\\text{spike count = 0,2})$"
   ]
  },
  {
   "cell_type": "markdown",
   "metadata": {},
   "source": [
    "# Calculating Joint Mutual Info\n",
    "For the first event:\n",
    "$$p(s_i) * \\Sigma_{j = 1..R}\\;{p(r_j|s_i)\\;log_2[\\frac {p(r_j|s_i)} {p(r_j)}]}$$\n",
    "<br>\n",
    "$$\n",
    "p(r_{0,2}|s_\\mathrm{event\\_1}) * log_2[\\frac {p(r_{0,2}|s_\\mathrm{event\\_1})} {p(r_{0,2})}]\n",
    "= 0.25 * log_2[\\frac{0.25} {\\frac{2} {7}}]\n",
    "= -0.04816\n",
    "$$\n",
    "<br>\n",
    "$$\n",
    "p(r_{1,0}|s_\\mathrm{event\\_1}) * log_2[\\frac {p(r_{1,0}|s_\\mathrm{event\\_1})} {p(r_{1,0})}]\n",
    "= 0.5 * log_2[\\frac {0.5} {\\frac {4} {7}}]\n",
    "= -0.09632\n",
    "$$\n",
    "<br>\n",
    "$$\n",
    "p(r_{0,1}|s_\\mathrm{event\\_1}) * log_2[\\frac {p(r_{0,1}|s_\\mathrm{event\\_1})} {p(r_{0,1})}]\n",
    "= 0.25 * log_2[\\frac{0.25} {\\frac{1} {7}}]\n",
    "= 0.20184\n",
    "$$\n",
    "<br>\n",
    "$$p(s_\\mathrm{event\\_1}) * \\Sigma_{j = 1..R}\\; = \\frac {4} {7} * (-0.04816 + -0.09632 + 0.20184) = 0.0328$$"
   ]
  },
  {
   "cell_type": "markdown",
   "metadata": {},
   "source": [
    "For the second event:\n",
    "$$p(s_i) * \\Sigma_{j = 1..R}\\;{p(r_j|s_i)\\;log_2[\\frac {p(r_j|s_i)} {p(r_j)}]}$$\n",
    "<br>\n",
    "$$\n",
    "p(r_{0,2}|s_\\mathrm{event\\_2}) * log_2[\\frac {p(r_{0,2}|s_\\mathrm{event\\_2})} {p(r_{0,2})}]\n",
    "= \\frac {1} {3} * log_2[\\frac{\\frac {1} {3}} {\\frac{2} {7}}]\n",
    "= -0.25920\n",
    "$$\n",
    "<br>\n",
    "$$\n",
    "p(r_{1,0}|s_\\mathrm{event\\_2}) * log_2[\\frac {p(r_{1,0}|s_\\mathrm{event\\_2})} {p(r_{1,0})}]\n",
    "= \\frac {2} {3} * log_2[\\frac {\\frac {2} {3}} {\\frac {4} {7}}]\n",
    "= 0.14826\n",
    "$$\n",
    "<br>\n",
    "$$\n",
    "p(s_\\mathrm{event\\_2}) * \\Sigma_{j = 1..R}\\; = \\frac {3} {7} * (-0.25920 + 0.14826) = -0.04755\n",
    "$$"
   ]
  },
  {
   "cell_type": "markdown",
   "metadata": {},
   "source": [
    "Sum the events:\n",
    "$$\\Sigma_{i = 1..S}\\; = 0.0328 + -0.04755 = -0.01477$$"
   ]
  },
  {
   "cell_type": "markdown",
   "metadata": {},
   "source": [
    "# Synergy Redundancy\n",
    "Since you only calculate the spike count joint mutual information, the formuala beaks down to:\n",
    "$$\\text{synergy redundancy} =  I_\\text{joint} - (\\Sigma_{n = 1..neuron}\\;I_n)$$\n",
    "So for our example it would be:\n",
    "$$\\text{synergy redundancy} =  I_\\text{joint} - (I_\\text{sig001a} + I_\\text{sig007a})$$"
   ]
  },
  {
   "cell_type": "markdown",
   "metadata": {
    "slideshow": {
     "slide_type": "slide"
    }
   },
   "source": [
    "# What to turn in\n",
    "## Conceptual Questions (10pts)\n",
    "* pdf with answers to conceptual questions\n",
    "  * Extra credit: Include summary and graphs in this pdf as well\n",
    "* Code files you wrote to create JSON output file\n",
    "* Code files should be plain text with proper file extension\n",
    "  * ex: last_first_hw1.m, last_first_hw1.py, etc."
   ]
  },
  {
   "cell_type": "markdown",
   "metadata": {
    "slideshow": {
     "slide_type": "slide"
    }
   },
   "source": [
    "# Json Output File (10pts)\n",
    "* This file will be input into automatic grader\n",
    "* This was taken from the example solution json and is a small snippet\n",
    "* You are not required to turn in a pretty formatted json file\n",
    "```json\n",
    "{\n",
    "    \"joint_mutual_info\": 0.33344173107597835,\n",
    "    \"sig001a\": {\n",
    "        \"count_mutual_info\": 0.05641115694179237,\n",
    "        \"event_1\": {\n",
    "            \"count_entropy\": 2.256315725743558\n",
    "        }\n",
    "    }\n",
    "}\n",
    "```"
   ]
  }
 ],
 "metadata": {
  "celltoolbar": "Slideshow",
  "kernelspec": {
   "display_name": "Python 3",
   "language": "python",
   "name": "python3"
  },
  "language_info": {
   "codemirror_mode": {
    "name": "ipython",
    "version": 3
   },
   "file_extension": ".py",
   "mimetype": "text/x-python",
   "name": "python",
   "nbconvert_exporter": "python",
   "pygments_lexer": "ipython3",
   "version": "3.8.2"
  }
 },
 "nbformat": 4,
 "nbformat_minor": 4
}
