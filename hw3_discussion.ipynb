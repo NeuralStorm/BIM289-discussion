{
 "cells": [
  {
   "cell_type": "markdown",
   "metadata": {
    "slideshow": {
     "slide_type": "slide"
    }
   },
   "source": [
    "# Roadmap\n",
    "\n",
    "$$\\text{Relative Response: } T \\times (N * B)$$\n",
    "$$\\;\\;\\;\\;\\;\\;\\;\\;\\;\\;\\;\\;\\;\\;\\;\\;\\;\\;\\;\\;\\;\\;\\downarrow{\\frac{\\Sigma{\\text{ (columns: T)}}} {\\text{T in E}}} $$\n",
    "$$ PSTH $$\n",
    "<br>\n",
    "$$\\text{T = trials | N = neurons | B = bins | E = events}$$"
   ]
  },
  {
   "cell_type": "markdown",
   "metadata": {
    "slideshow": {
     "slide_type": "slide"
    }
   },
   "source": [
    "# Goal\n",
    "* Create basic Euclidean distance classifier\n",
    "  * Use classifier to classify tilt type based on the psths\n",
    "* Use leave-one-out to create an offline confusion matrix\n",
    "  * Assess performance of the trials offline\n",
    "  * Extract mutual information from the confusion matrix"
   ]
  },
  {
   "cell_type": "markdown",
   "metadata": {
    "slideshow": {
     "slide_type": "slide"
    }
   },
   "source": [
    "# Euclidean Distance\n",
    "<br>\n",
    "$$ distance = \\sqrt{\\Sigma_{b=1:totBins}(psth - \\mathrm{trial\\_psth})^2}$$\n",
    "Dimensions:\n",
    "PSTH: 1 X (tot_bins $*$ Neurons)  \n",
    "Trial: 1 X (tot_bins $*$ Neurons)"
   ]
  },
  {
   "cell_type": "markdown",
   "metadata": {},
   "source": [
    "$$\\pagebreak$$"
   ]
  },
  {
   "cell_type": "markdown",
   "metadata": {},
   "source": [
    "# PSTH CLassification Example\n",
    "## Train Relative Responses\n",
    "$$\\text{event 1 relative response for 2 Neurons}$$\n",
    "$$\n",
    "\\begin{bmatrix}\\text{trial 1}\\\\\\text{trial 2}\\\\\\text{trial 3}\\\\\\text{trial 4}\\end{bmatrix}\n",
    "\\begin{bmatrix}0&2&4&3\\\\0&1&0&1\\\\1&0&0&1\\\\0&0&0&1\\end{bmatrix}\n",
    "\\begin{bmatrix}0&2&1&3\\\\0&0&2&1\\\\0&0&1&1\\\\0&3&1&1\\end{bmatrix}\n",
    "$$\n",
    "$$\\text{event 1 psth template} = \\begin{bmatrix}0.25&0.75&1&1.5\\end{bmatrix}\\begin{bmatrix}0&1.25&1.25&1.5\\end{bmatrix}$$\n",
    "<br>\n",
    "$$\\text{event 2 relative response for 2 Neurons}$$\n",
    "$$\n",
    "\\begin{bmatrix}\\text{trial 1}\\\\\\text{trial 2}\\\\\\text{trial 3}\\end{bmatrix}\n",
    "\\begin{bmatrix}0&0&2&3\\\\1&0&1&0\\\\0&2&3&1\\end{bmatrix}\n",
    "\\begin{bmatrix}1&0&2&3\\\\0&0&1&0\\\\0&0&1&3\\end{bmatrix}\n",
    "$$\n",
    "$$\\text{event 2 psth template} = \\begin{bmatrix}0.33&0.67&2&1.33\\end{bmatrix}\\begin{bmatrix}0.33&0&1.33&2\\end{bmatrix}$$"
   ]
  },
  {
   "cell_type": "markdown",
   "metadata": {},
   "source": [
    "## Event 1 Template\n",
    "$$\\begin{bmatrix}0.25&0.75&1&1.5\\end{bmatrix}\\begin{bmatrix}0&1.25&1.25&1.5\\end{bmatrix}$$"
   ]
  },
  {
   "cell_type": "markdown",
   "metadata": {},
   "source": [
    "## Event 2 Template\n",
    "$$\\begin{bmatrix}0.33&0.67&2&1.33\\end{bmatrix}\\begin{bmatrix}0.33&0&1.33&2\\end{bmatrix}$$"
   ]
  },
  {
   "cell_type": "markdown",
   "metadata": {},
   "source": [
    "## Test Trial (True Label = Event 2)\n",
    "$$\\text{test trial} = \\begin{bmatrix}0&1&2&3\\end{bmatrix}\\begin{bmatrix}0&0&1&2\\end{bmatrix}$$"
   ]
  },
  {
   "cell_type": "markdown",
   "metadata": {},
   "source": [
    "## Calculate Euclidian Distance\n",
    "\n",
    "### Event 1 Distance\n",
    "$$ \\text{neuron 1} = (0.25-0)^2 + (0.75-1)^2 + (1-2)^2 + (1.5-3)^2 = \\frac {27} {8}$$\n",
    "$$ \\text{neuron 2} = (0-0)^2 + (1.25-0)^2 + (1.25-1)^2 + (1.5-2)^2 = \\frac {15} {8}$$\n",
    "$$ \\text{distance} = \\sqrt{\\frac {27} {8} + \\frac{15} {8}} = \\frac{\\sqrt{21}} {2} = 2.291$$"
   ]
  },
  {
   "cell_type": "markdown",
   "metadata": {},
   "source": [
    "### Event 2 Distance\n",
    "$$ \\text{neuron 1} = (0.33-0)^2 + (0.67-1)^2 + (2-2)^2 + (1.33-3)^2 = 3$$\n",
    "$$ \\text{neuron 2} = (0.33-0)^2 + (0-0)^2 + (1.33-1)^2 + (2-2)^2 = \\frac{2} {9}$$\n",
    "$$ \\text{distance} = \\sqrt{3 + \\frac{2} {9}} = \\frac{\\sqrt{29}} {3} = 1.795$$"
   ]
  },
  {
   "cell_type": "markdown",
   "metadata": {},
   "source": [
    "## Classifying on Min Distance\n",
    "* Event 1 and test trial distance: 2.291\n",
    "* Event 2 and test trial distance: 1.795\n",
    "* Test trial is closest to the event 2 template, therefore that trial is classified as event 2\n",
    "  * true label and predicted label match so trial was correctly identified"
   ]
  },
  {
   "cell_type": "markdown",
   "metadata": {},
   "source": [
    "# Leave One Out Cross Validation\n",
    "1. Remove a test trial without test trial\n",
    "2. Recalculate template with trial left out\n",
    "3. Classify trial\n",
    "4. Replace trial removed\n",
    "5. Remove next trial\n",
    "6. Recreate PSTH templates without test trial\n",
    "7. Calculate min distance and classify trial\n",
    "8. Repeat process until every trial has been treated as a test trial"
   ]
  },
  {
   "cell_type": "markdown",
   "metadata": {
    "slideshow": {
     "slide_type": "slide"
    }
   },
   "source": [
    "# Classic Confusion Matrix\n",
    "$$\\begin{bmatrix}&\\text{predicted yes}&\\text{predicted no}\\\\\\text{true yes}&\\text{true positive}&\\text{false negative, type II error}\\\\\\text{true no}&\\text{false positive, type I error}&\\text{true negative}\\end{bmatrix}$$"
   ]
  },
  {
   "cell_type": "markdown",
   "metadata": {
    "slideshow": {
     "slide_type": "fragment"
    }
   },
   "source": [
    "### Accuracy (performance)\n",
    "$$Accuracy = \\frac{TP + TN}{\\text{tot population}}$$"
   ]
  },
  {
   "cell_type": "markdown",
   "metadata": {
    "slideshow": {
     "slide_type": "fragment"
    }
   },
   "source": [
    "### Sensitivity\n",
    "$$\\text{True Positive Rate} = \\frac{TP}{TP+FN}$$"
   ]
  },
  {
   "cell_type": "markdown",
   "metadata": {
    "slideshow": {
     "slide_type": "fragment"
    }
   },
   "source": [
    "### Specificity\n",
    "$$\\text{True Negative Rate} = \\frac{TN}{TN+FP}$$"
   ]
  },
  {
   "cell_type": "markdown",
   "metadata": {
    "slideshow": {
     "slide_type": "slide"
    }
   },
   "source": [
    "![Sig 007c Event 4 PSTH](images/type_1_type_2_error.jpg)\n",
    "Ellis, P. D. (2016). The essential guide to effect sizes: statistical power, meta-analysis, and the interpretation of research results. Cambridge: Cambridge University Press."
   ]
  },
  {
   "cell_type": "markdown",
   "metadata": {},
   "source": [
    "# Building Classification Confusion Matrix\n",
    "1. Store predicted trial and true trial from classification\n",
    "2. After all trials are classified you can use the following functions"
   ]
  },
  {
   "cell_type": "markdown",
   "metadata": {},
   "source": [
    "## Matlab Confusion Matrix\n",
    "```m\n",
    "% true_events = list of true event labels in order of classification\n",
    "% predicted_events = list of predicted event labels in order of classification\n",
    "result_confusion = confusionmat(true_events, predicted_events);\n",
    "```"
   ]
  },
  {
   "cell_type": "markdown",
   "metadata": {},
   "source": [
    "## Python Confusion Matrix\n",
    "```py\n",
    "from sklearn.metrics import confusion_matrix, accuracy_score\n",
    "# true_events = list of true event labels in order of classification\n",
    "# predicted_events = list of predicted event labels in order of classification\n",
    "result_confusion = confusion_matrix(true_events, predicted_events)\n",
    "```"
   ]
  },
  {
   "cell_type": "markdown",
   "metadata": {
    "slideshow": {
     "slide_type": "slide"
    }
   },
   "source": [
    "# Classification Confusion Matrix\n",
    "$$\\begin{bmatrix}\n",
    "&\\text{predicted 1}&\\text{predicted 2}&\\text{predicted 3}&\\text{predicted 4}\\\\\n",
    "\\text{true 1}&40&27&2&0\\\\\n",
    "\\text{true 2}&19&47&3&1\\\\\n",
    "\\text{true 3}&10&6&47&18\\\\\n",
    "\\text{true 4}&1&1&24&54\n",
    "\\end{bmatrix}$$"
   ]
  },
  {
   "cell_type": "markdown",
   "metadata": {
    "slideshow": {
     "slide_type": "fragment"
    }
   },
   "source": [
    "### Entropy\n",
    "1. Find row entropy  \n",
    "$H_\\text{row} = -\\Sigma_{i = 1..row}\\;{p(row_i)*log_2(p(row_i))}$\n",
    "2. Find column entropy  \n",
    "$H_\\text{column} = -\\Sigma_{j = 1..column}{p(column_j)*log_2(p(column_j))}$\n",
    "3. Find element entropy  \n",
    "$H_\\text{element} = -\\Sigma_{k = 1..element}{p(element_k)*log_2(p(element_k))}$"
   ]
  },
  {
   "cell_type": "markdown",
   "metadata": {
    "slideshow": {
     "slide_type": "fragment"
    }
   },
   "source": [
    "### Information Confusion\n",
    "<br>\n",
    "$$I = H_a + H_b - H_{ab}$$\n",
    "$$H_a = \\text{row entropy} | H_b = \\text{col entropy} | H_{ab} = \\text{element entropy}$$"
   ]
  },
  {
   "cell_type": "markdown",
   "metadata": {},
   "source": [
    "$$\\pagebreak$$"
   ]
  },
  {
   "cell_type": "markdown",
   "metadata": {
    "slideshow": {
     "slide_type": "slide"
    }
   },
   "source": [
    "# What to turn in\n",
    "## Conceptual Questions (10pts)\n",
    "* pdf with answers to conceptual questions\n",
    "* Code files you wrote to create JSON output file\n",
    "* Code files should be plain text with proper file extension\n",
    "  * ex: last_first_hw3.m, last_first_hw3.py, etc."
   ]
  },
  {
   "cell_type": "markdown",
   "metadata": {
    "slideshow": {
     "slide_type": "slide"
    }
   },
   "source": [
    "# Json Output File (10pts)\n",
    "* This file will be input into automatic grader\n",
    "* This was taken from the example solution json and is a small snippet\n",
    "* You are not required to turn in a pretty formatted json file\n",
    "```json\n",
    "{\n",
    "    \"bin_200ms\": {\n",
    "        \"performance\": 0.6266666666666667,\n",
    "        \"confusion_matrix\": [\n",
    "            [\n",
    "                40,27,2,0\n",
    "            ],\n",
    "            [\n",
    "                19,47,3,1\n",
    "            ],\n",
    "            [\n",
    "                10,6,47,18\n",
    "            ],\n",
    "            [\n",
    "                1,1,24,54\n",
    "            ]\n",
    "        ],\n",
    "        \"mutual_info\": 0.7499828172100611\n",
    "    }\n",
    "}\n",
    "```"
   ]
  }
 ],
 "metadata": {
  "celltoolbar": "Slideshow",
  "kernelspec": {
   "display_name": "Python 3",
   "language": "python",
   "name": "python3"
  },
  "language_info": {
   "codemirror_mode": {
    "name": "ipython",
    "version": 3
   },
   "file_extension": ".py",
   "mimetype": "text/x-python",
   "name": "python",
   "nbconvert_exporter": "python",
   "pygments_lexer": "ipython3",
   "version": "3.8.2"
  }
 },
 "nbformat": 4,
 "nbformat_minor": 4
}
