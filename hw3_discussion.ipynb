{
 "cells": [
  {
   "cell_type": "markdown",
   "metadata": {
    "slideshow": {
     "slide_type": "slide"
    }
   },
   "source": [
    "# Roadmap\n",
    "\n",
    "$$\\text{Relative Response: } T \\times (N * B)$$\n",
    "$$\\;\\;\\;\\;\\;\\;\\;\\;\\;\\;\\;\\;\\;\\;\\;\\;\\;\\;\\;\\;\\;\\;\\downarrow{\\frac{\\Sigma{\\text{ (columns: T)}}} {\\text{T in E}}} $$\n",
    "$$ PSTH $$\n",
    "<br>\n",
    "$$\\text{T = trials | N = neurons | B = bins | E = events}$$"
   ]
  },
  {
   "cell_type": "markdown",
   "metadata": {
    "slideshow": {
     "slide_type": "slide"
    }
   },
   "source": [
    "# Goal\n",
    "* Create basic Euclidean distance classifier\n",
    "  * Use classifier to classify tilt type based on the psths\n",
    "* Use leave-one-out to create an offline confusion matrix\n",
    "  * Assess performance of the trials offline\n",
    "  * Extract mutual information from the confusion matrix"
   ]
  },
  {
   "cell_type": "markdown",
   "metadata": {
    "slideshow": {
     "slide_type": "slide"
    }
   },
   "source": [
    "# Euclidean Distance\n",
    "<br>\n",
    "$$ distance = \\sqrt{\\Sigma_{b=1:totBins}(PSTH - trial)^2}$$\n",
    "Dimensions:  \n",
    "PSTH: 1 X (tot_bins $*$ Neurons)  \n",
    "Trial: 1 X (tot_bins $*$ Neurons)"
   ]
  },
  {
   "cell_type": "markdown",
   "metadata": {
    "slideshow": {
     "slide_type": "slide"
    }
   },
   "source": [
    "# Psuedocode\n",
    "```py\n",
    "# Create psth templates for each event\n",
    "for event in events:\n",
    "    psth_template = sum(relative_response) / tot_event_trials\n",
    "```"
   ]
  },
  {
   "cell_type": "markdown",
   "metadata": {
    "slideshow": {
     "slide_type": "fragment"
    }
   },
   "source": [
    "```py\n",
    "# Go through each event\n",
    "for event in events:\n",
    "```"
   ]
  },
  {
   "cell_type": "markdown",
   "metadata": {
    "slideshow": {
     "slide_type": "fragment"
    }
   },
   "source": [
    "```py\n",
    "# Go through each trial\n",
    "    for trial in event:\n",
    "        # Recreate current event template without current trial\n",
    "        curr_response = remove(relative_response, trial)\n",
    "        psth_template = sum(curr_response) / (tot_event_trials - 1)\n",
    "        trial_template = trial_response\n",
    "```"
   ]
  },
  {
   "cell_type": "markdown",
   "metadata": {
    "slideshow": {
     "slide_type": "fragment"
    }
   },
   "source": [
    "```py\n",
    "# Go through events and calculate Euclidean distance\n",
    "        for event in events:\n",
    "            # apply euclidian distance formula from above\n",
    "        classified_label = min(euclidean_distance)\n",
    "        # Append/update list with predicted and true label\n",
    "```"
   ]
  },
  {
   "cell_type": "markdown",
   "metadata": {
    "slideshow": {
     "slide_type": "slide"
    }
   },
   "source": [
    "# Classic Confusion Matrix\n",
    "\n",
    "<table>\n",
    "    <tr>\n",
    "        <th></th>\n",
    "        <th>Predicted Yes</th>\n",
    "        <th>Predicted No</th>\n",
    "    </tr>\n",
    "    <tr>\n",
    "        <th>True Yes</td>\n",
    "        <td>True positive</td>\n",
    "        <td>False Negative</td>\n",
    "    </tr>\n",
    "    <tr>\n",
    "        <th>True No</td>\n",
    "        <td>False Positive</td>\n",
    "        <td>True Negative</td>\n",
    "    </tr>\n",
    "</table>"
   ]
  },
  {
   "cell_type": "markdown",
   "metadata": {
    "slideshow": {
     "slide_type": "fragment"
    }
   },
   "source": [
    "### Accuracy (performance)\n",
    "$$Accuracy = \\frac{TP + TN}{\\text{tot population}}$$"
   ]
  },
  {
   "cell_type": "markdown",
   "metadata": {
    "slideshow": {
     "slide_type": "fragment"
    }
   },
   "source": [
    "### Sensitivity\n",
    "$$\\text{True Positive Rate} = \\frac{TP}{TP+FN}$$"
   ]
  },
  {
   "cell_type": "markdown",
   "metadata": {
    "slideshow": {
     "slide_type": "fragment"
    }
   },
   "source": [
    "### Specificity\n",
    "$$\\text{True Negative Rate} = \\frac{TN}{TN+FP}$$"
   ]
  },
  {
   "cell_type": "markdown",
   "metadata": {
    "slideshow": {
     "slide_type": "slide"
    }
   },
   "source": [
    "# Classification Confusion Matrix\n",
    "<style>\n",
    "    table {\n",
    "        border-collapse: collapse;\n",
    "    }\n",
    "    .rendered_html table, th, td {\n",
    "        table-layout: fixed;\n",
    "        border-collapse: collapse;\n",
    "        border: 1px solid black !important;\n",
    "    }\n",
    "</style>\n",
    "<table>\n",
    "    <tr>\n",
    "        <th></th>\n",
    "        <th>Predicted 1</th>\n",
    "        <th>Predicted 2</th>\n",
    "        <th>Predicted 3</th>\n",
    "        <th>Predicted 4</th>\n",
    "    </tr>\n",
    "    <tr>\n",
    "        <th>True 1</td>\n",
    "        <td>40</td>\n",
    "        <td>27</td>\n",
    "        <td>2</td>\n",
    "        <td>0</td>\n",
    "    </tr>\n",
    "    <tr>\n",
    "        <th>True 2</td>\n",
    "        <td>19</td>\n",
    "        <td>47</td>\n",
    "        <td>3</td>\n",
    "        <td>1</td>\n",
    "    </tr>\n",
    "    <tr>\n",
    "        <th>True 3</td>\n",
    "        <td>10</td>\n",
    "        <td>6</td>\n",
    "        <td>47</td>\n",
    "        <td>18</td>\n",
    "    </tr>\n",
    "    <tr>\n",
    "        <th>True 4</td>\n",
    "        <td>1</td>\n",
    "        <td>1</td>\n",
    "        <td>24</td>\n",
    "        <td>54</td>\n",
    "    </tr>\n",
    "</table>"
   ]
  },
  {
   "cell_type": "markdown",
   "metadata": {
    "slideshow": {
     "slide_type": "fragment"
    }
   },
   "source": [
    "### Information Confusion\n",
    "<br>\n",
    "$$I = H_a + H_b - H_{ab}$$\n",
    "$$H_a = \\text{row entropy} | H_b = \\text{col entropy} | H_{ab} = \\text{joint info}$$"
   ]
  },
  {
   "cell_type": "markdown",
   "metadata": {
    "slideshow": {
     "slide_type": "fragment"
    }
   },
   "source": [
    "### Entropy\n",
    "* Find probability of given row/column (p(a), p(b))\n",
    "* Find probability of each entry in confusion matrix (p(ab))\n",
    "$$H = -\\Sigma{p(a)log_2(p(a))}$$"
   ]
  },
  {
   "cell_type": "markdown",
   "metadata": {
    "slideshow": {
     "slide_type": "slide"
    }
   },
   "source": [
    "# Analysis Psuedocode\n",
    "```py\n",
    "# Analyze results from leave one out offline classification\n",
    "performance = correct_classification / tot_trials\n",
    "confusion_matrix = create_confusion_matrix(true_labels, predicted_labels)\n",
    "# Calculate entropy for rows, cols, and each index in table\n",
    "info = h_rows + h_cols - h_joint\n",
    "```"
   ]
  },
  {
   "cell_type": "markdown",
   "metadata": {
    "slideshow": {
     "slide_type": "slide"
    }
   },
   "source": [
    "# What to turn in\n",
    "## Conceptual Questions (10pts)\n",
    "* pdf with answers to conceptual questions\n",
    "* Code files you wrote to create JSON output file\n",
    "* Code files should be plain text with proper file extension\n",
    "  * ex: last_first_hw3.m, last_first_hw3.py, etc."
   ]
  },
  {
   "cell_type": "markdown",
   "metadata": {
    "slideshow": {
     "slide_type": "slide"
    }
   },
   "source": [
    "# Json Output File (10pts)\n",
    "* This file will be input into automatic grader\n",
    "* This was taken from the example solution json and is a small snippet\n",
    "* You are not required to turn in a pretty formatted json file\n",
    "```json\n",
    "{\n",
    "    \"bin_200ms\": {\n",
    "        \"performance\": 0.6266666666666667,\n",
    "        \"confusion_matrix\": [\n",
    "            [\n",
    "                40,27,2,0\n",
    "            ],\n",
    "            [\n",
    "                19,47,3,1\n",
    "            ],\n",
    "            [\n",
    "                10,6,47,18\n",
    "            ],\n",
    "            [\n",
    "                1,1,24,54\n",
    "            ]\n",
    "        ],\n",
    "        \"mutual_info\": 0.7499828172100611\n",
    "    }\n",
    "}\n",
    "```"
   ]
  }
 ],
 "metadata": {
  "celltoolbar": "Slideshow",
  "kernelspec": {
   "display_name": "Python 3",
   "language": "python",
   "name": "python3"
  },
  "language_info": {
   "codemirror_mode": {
    "name": "ipython",
    "version": 3
   },
   "file_extension": ".py",
   "mimetype": "text/x-python",
   "name": "python",
   "nbconvert_exporter": "python",
   "pygments_lexer": "ipython3",
   "version": "3.8.1"
  }
 },
 "nbformat": 4,
 "nbformat_minor": 2
}
