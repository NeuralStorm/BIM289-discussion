{
 "cells": [
  {
   "cell_type": "markdown",
   "metadata": {
    "slideshow": {
     "slide_type": "slide"
    }
   },
   "source": [
    "# Roadmap\n",
    "\n",
    "$$\\text{Relative Response: } T \\times (N * B)$$\n",
    "<br>\n",
    "$$\\;\\;\\;\\;\\;\\;\\;\\;\\;\\;\\;\\;\\;\\;\\;\\;\\;\\;\\;\\;\\;\\;\\downarrow{\\frac{\\Sigma{\\text{ (columns: T)}}} {\\text{T in E}}} $$\n",
    "<br>\n",
    "$$ PSTH $$\n",
    "<br>\n",
    "$$\\text{T = trials | N = neurons | B = bins | E = events}$$"
   ]
  },
  {
   "cell_type": "markdown",
   "metadata": {
    "slideshow": {
     "slide_type": "slide"
    }
   },
   "source": [
    "# Goal\n",
    "* Create basic Euclidean distance classifier\n",
    "  * Use classifier to classify tilt type based on the psths\n",
    "* Use leave-one-out to create an offline confusion matrix\n",
    "  * Assess performance of the trials offline\n",
    "  * Extract mutual information from the confusion matrix"
   ]
  },
  {
   "cell_type": "markdown",
   "metadata": {
    "slideshow": {
     "slide_type": "slide"
    }
   },
   "source": [
    "# Euclidean Distance\n",
    "$$ distance = \\sqrt{\\Sigma_{b=1:totBins}(PSTH - trial)^2}$$\n",
    "Dimensions:  \n",
    "PSTH: 1 X (tot_bins $*$ Neurons)  \n",
    "Trial: 1 X (tot_bins $*$ Neurons)"
   ]
  },
  {
   "cell_type": "markdown",
   "metadata": {
    "slideshow": {
     "slide_type": "slide"
    }
   },
   "source": [
    "# Psuedocode\n",
    "```py\n",
    "# Create psth templates for each event\n",
    "for event in events:\n",
    "    psth_template = sum(relative_response) / tot_event_trials\n",
    "```"
   ]
  },
  {
   "cell_type": "markdown",
   "metadata": {
    "slideshow": {
     "slide_type": "fragment"
    }
   },
   "source": [
    "```py\n",
    "# Go through each event\n",
    "for event in events:\n",
    "```"
   ]
  },
  {
   "cell_type": "markdown",
   "metadata": {
    "slideshow": {
     "slide_type": "fragment"
    }
   },
   "source": [
    "```py\n",
    "# Go through each trial\n",
    "    for trial in event:\n",
    "        # Recreate current event template without current trial\n",
    "        curr_response = remove(relative_response, trial)\n",
    "        psth_template = sum(curr_response) / (tot_event_trials - 1)\n",
    "        trial_template = trial_response\n",
    "```"
   ]
  },
  {
   "cell_type": "markdown",
   "metadata": {
    "slideshow": {
     "slide_type": "fragment"
    }
   },
   "source": [
    "```py\n",
    "# Go through events and calculate Euclidean distance\n",
    "        for event in events:\n",
    "            # apply euclidian distance formula from above\n",
    "        classified_label = min(euclidean_distance)\n",
    "        # Append/update list with predicted and true label\n",
    "```"
   ]
  },
  {
   "cell_type": "markdown",
   "metadata": {
    "slideshow": {
     "slide_type": "fragment"
    }
   },
   "source": [
    "```py\n",
    "# Analyze results from leave one out offline classification\n",
    "performance = correct_classification / tot_trials\n",
    "confusion_matrix = create_confusion_matrix(true_labels, predicted_labels)\n",
    "info = h_rows + h_cols - h_joint\n",
    "```"
   ]
  },
  {
   "cell_type": "markdown",
   "metadata": {
    "slideshow": {
     "slide_type": "slide"
    }
   },
   "source": [
    "# Confusion Matrix\n",
    "<style>\n",
    "    td {\n",
    "        padding: 10px\n",
    "    }\n",
    "    .rendered_html table {\n",
    "      table-layout: fixed;\n",
    "      width: 100%;\n",
    "      border-collapse: collapse;\n",
    "      border: 1px solid black !important;\n",
    "        tr { \n",
    "          border: solid;\n",
    "          border-width: 1px 0;\n",
    "        }\n",
    "    }\n",
    "</style>\n",
    "<table>\n",
    "    <tr>\n",
    "        <th></th>\n",
    "        <th>Predicted 1</th>\n",
    "        <th>Predicted 2</th>\n",
    "        <th>Predicted 3</th>\n",
    "        <th>Predicted 4</th>\n",
    "    </tr>\n",
    "    <tr>\n",
    "        <th>True 1</td>\n",
    "        <td>Correct</td>\n",
    "        <td>Incorrect</td>\n",
    "        <td>Incorrect</td>\n",
    "        <td>Incorrect</td>\n",
    "    </tr>\n",
    "    <tr>\n",
    "        <th>True 2</td>\n",
    "        <td>Incorrect</td>\n",
    "        <td>Correct</td>\n",
    "        <td>Incorrect</td>\n",
    "        <td>Incorrect</td>\n",
    "    </tr>\n",
    "    <tr>\n",
    "        <th>True 3</td>\n",
    "        <td>Incorrect</td>\n",
    "        <td>Incorrect</td>\n",
    "        <td>Correct</td>\n",
    "        <td>Incorrect</td>\n",
    "    </tr>\n",
    "    <tr>\n",
    "        <th>True 4</td>\n",
    "        <td>Incorrect</td>\n",
    "        <td>Incorrect</td>\n",
    "        <td>Incorrect</td>\n",
    "        <td>Correct</td>\n",
    "    </tr>\n",
    "</table>"
   ]
  },
  {
   "cell_type": "markdown",
   "metadata": {
    "slideshow": {
     "slide_type": "fragment"
    }
   },
   "source": [
    "# Information Confusion\n",
    "$$I = H_a + H_b - H_{ab}$$\n",
    "$$H_a = \\text{row entropy} | H_b = \\text{col entropy} | H_{ab} = \\text{joint info}$$"
   ]
  },
  {
   "cell_type": "markdown",
   "metadata": {
    "slideshow": {
     "slide_type": "fragment"
    }
   },
   "source": [
    "# Entropy\n",
    "* Find probability of given row/column (p(a), p(b))\n",
    "* Find probability of each entry in confusion matrix (p(ab))\n",
    "$$H = -\\Sigma{p(a)log_2(p(a))}$$"
   ]
  },
  {
   "cell_type": "code",
   "execution_count": 1,
   "metadata": {
    "slideshow": {
     "slide_type": "skip"
    }
   },
   "outputs": [
    {
     "data": {
      "text/html": [
       "<table>\n",
       "<tbody>\n",
       "<tr><td>event:      </td><td>predicted_event_1</td><td>predicted_event_2</td><td>predicted_event_3</td><td>predicted_event_4</td></tr>\n",
       "<tr><td>true_event_1</td><td>0                </td><td>0                </td><td>0                </td><td>0                </td></tr>\n",
       "<tr><td>true_event_2</td><td>0                </td><td>0                </td><td>0                </td><td>0                </td></tr>\n",
       "<tr><td>true_event_3</td><td>0                </td><td>0                </td><td>0                </td><td>0                </td></tr>\n",
       "<tr><td>true_event_4</td><td>0                </td><td>0                </td><td>0                </td><td>0                </td></tr>\n",
       "</tbody>\n",
       "</table>"
      ],
      "text/plain": [
       "<IPython.core.display.HTML object>"
      ]
     },
     "metadata": {},
     "output_type": "display_data"
    }
   ],
   "source": [
    "from IPython.display import HTML, display\n",
    "import tabulate\n",
    "table = [[\"event:\",\"predicted_event_1\",\"predicted_event_2\",\"predicted_event_3\",\"predicted_event_4\"],\n",
    "         [\"true_event_1\",0,0,0,0],\n",
    "         [\"true_event_2\",0,0,0,0],\n",
    "         [\"true_event_3\",0,0,0,0],\n",
    "         [\"true_event_4\",0,0,0,0]]\n",
    "display(HTML(tabulate.tabulate(table, tablefmt='html')))"
   ]
  },
  {
   "cell_type": "code",
   "execution_count": 5,
   "metadata": {
    "slideshow": {
     "slide_type": "skip"
    }
   },
   "outputs": [
    {
     "data": {
      "text/html": [
       "<table>\n",
       "<tbody>\n",
       "<tr><td>event:      </td><td>predicted_event_1</td><td>predicted_event_2</td><td>predicted_event_3</td><td>predicted_event_4</td></tr>\n",
       "<tr><td>true_event_1</td><td>0                </td><td>0                </td><td>0                </td><td>0                </td></tr>\n",
       "<tr><td>true_event_2</td><td>0                </td><td>0                </td><td>0                </td><td>0                </td></tr>\n",
       "<tr><td>true_event_3</td><td>0                </td><td>0                </td><td>0                </td><td>0                </td></tr>\n",
       "<tr><td>true_event_4</td><td>0                </td><td>0                </td><td>0                </td><td>0                </td></tr>\n",
       "</tbody>\n",
       "</table>"
      ],
      "text/plain": [
       "<IPython.core.display.HTML object>"
      ]
     },
     "metadata": {},
     "output_type": "display_data"
    }
   ],
   "source": []
  }
 ],
 "metadata": {
  "celltoolbar": "Slideshow",
  "kernelspec": {
   "display_name": "Python 3",
   "language": "python",
   "name": "python3"
  },
  "language_info": {
   "codemirror_mode": {
    "name": "ipython",
    "version": 3
   },
   "file_extension": ".py",
   "mimetype": "text/x-python",
   "name": "python",
   "nbconvert_exporter": "python",
   "pygments_lexer": "ipython3",
   "version": "3.8.1"
  }
 },
 "nbformat": 4,
 "nbformat_minor": 2
}
